{
 "cells": [
  {
   "cell_type": "code",
   "execution_count": 1,
   "id": "b242b7e0-c5d2-46c5-a675-0a0c994b59c0",
   "metadata": {},
   "outputs": [],
   "source": [
    "import pandas as pd\n",
    "import numpy as np\n",
    "import matplotlib.pyplot as plt"
   ]
  },
  {
   "cell_type": "code",
   "execution_count": 2,
   "id": "d8906711-ab5c-48a7-b6e0-beb2d58313c7",
   "metadata": {},
   "outputs": [],
   "source": [
    "df = pd.read_csv(\"googleplaystore.csv\")"
   ]
  },
  {
   "cell_type": "code",
   "execution_count": 3,
   "id": "364cae1a-4e46-4928-85fb-2c1b9f78cbca",
   "metadata": {},
   "outputs": [
    {
     "data": {
      "text/html": [
       "<div>\n",
       "<style scoped>\n",
       "    .dataframe tbody tr th:only-of-type {\n",
       "        vertical-align: middle;\n",
       "    }\n",
       "\n",
       "    .dataframe tbody tr th {\n",
       "        vertical-align: top;\n",
       "    }\n",
       "\n",
       "    .dataframe thead th {\n",
       "        text-align: right;\n",
       "    }\n",
       "</style>\n",
       "<table border=\"1\" class=\"dataframe\">\n",
       "  <thead>\n",
       "    <tr style=\"text-align: right;\">\n",
       "      <th></th>\n",
       "      <th>App</th>\n",
       "      <th>Category</th>\n",
       "      <th>Rating</th>\n",
       "      <th>Reviews</th>\n",
       "      <th>Size</th>\n",
       "      <th>Installs</th>\n",
       "      <th>Type</th>\n",
       "      <th>Price</th>\n",
       "      <th>Content Rating</th>\n",
       "      <th>Genres</th>\n",
       "      <th>Last Updated</th>\n",
       "      <th>Current Ver</th>\n",
       "      <th>Android Ver</th>\n",
       "    </tr>\n",
       "  </thead>\n",
       "  <tbody>\n",
       "    <tr>\n",
       "      <th>0</th>\n",
       "      <td>Photo Editor &amp; Candy Camera &amp; Grid &amp; ScrapBook</td>\n",
       "      <td>ART_AND_DESIGN</td>\n",
       "      <td>4.1</td>\n",
       "      <td>159</td>\n",
       "      <td>19M</td>\n",
       "      <td>10,000+</td>\n",
       "      <td>Free</td>\n",
       "      <td>0</td>\n",
       "      <td>Everyone</td>\n",
       "      <td>Art &amp; Design</td>\n",
       "      <td>January 7, 2018</td>\n",
       "      <td>1.0.0</td>\n",
       "      <td>4.0.3 and up</td>\n",
       "    </tr>\n",
       "    <tr>\n",
       "      <th>1</th>\n",
       "      <td>Coloring book moana</td>\n",
       "      <td>ART_AND_DESIGN</td>\n",
       "      <td>3.9</td>\n",
       "      <td>967</td>\n",
       "      <td>14M</td>\n",
       "      <td>500,000+</td>\n",
       "      <td>Free</td>\n",
       "      <td>0</td>\n",
       "      <td>Everyone</td>\n",
       "      <td>Art &amp; Design;Pretend Play</td>\n",
       "      <td>January 15, 2018</td>\n",
       "      <td>2.0.0</td>\n",
       "      <td>4.0.3 and up</td>\n",
       "    </tr>\n",
       "    <tr>\n",
       "      <th>2</th>\n",
       "      <td>U Launcher Lite – FREE Live Cool Themes, Hide ...</td>\n",
       "      <td>ART_AND_DESIGN</td>\n",
       "      <td>4.7</td>\n",
       "      <td>87510</td>\n",
       "      <td>8.7M</td>\n",
       "      <td>5,000,000+</td>\n",
       "      <td>Free</td>\n",
       "      <td>0</td>\n",
       "      <td>Everyone</td>\n",
       "      <td>Art &amp; Design</td>\n",
       "      <td>August 1, 2018</td>\n",
       "      <td>1.2.4</td>\n",
       "      <td>4.0.3 and up</td>\n",
       "    </tr>\n",
       "    <tr>\n",
       "      <th>3</th>\n",
       "      <td>Sketch - Draw &amp; Paint</td>\n",
       "      <td>ART_AND_DESIGN</td>\n",
       "      <td>4.5</td>\n",
       "      <td>215644</td>\n",
       "      <td>25M</td>\n",
       "      <td>50,000,000+</td>\n",
       "      <td>Free</td>\n",
       "      <td>0</td>\n",
       "      <td>Teen</td>\n",
       "      <td>Art &amp; Design</td>\n",
       "      <td>June 8, 2018</td>\n",
       "      <td>Varies with device</td>\n",
       "      <td>4.2 and up</td>\n",
       "    </tr>\n",
       "    <tr>\n",
       "      <th>4</th>\n",
       "      <td>Pixel Draw - Number Art Coloring Book</td>\n",
       "      <td>ART_AND_DESIGN</td>\n",
       "      <td>4.3</td>\n",
       "      <td>967</td>\n",
       "      <td>2.8M</td>\n",
       "      <td>100,000+</td>\n",
       "      <td>Free</td>\n",
       "      <td>0</td>\n",
       "      <td>Everyone</td>\n",
       "      <td>Art &amp; Design;Creativity</td>\n",
       "      <td>June 20, 2018</td>\n",
       "      <td>1.1</td>\n",
       "      <td>4.4 and up</td>\n",
       "    </tr>\n",
       "    <tr>\n",
       "      <th>...</th>\n",
       "      <td>...</td>\n",
       "      <td>...</td>\n",
       "      <td>...</td>\n",
       "      <td>...</td>\n",
       "      <td>...</td>\n",
       "      <td>...</td>\n",
       "      <td>...</td>\n",
       "      <td>...</td>\n",
       "      <td>...</td>\n",
       "      <td>...</td>\n",
       "      <td>...</td>\n",
       "      <td>...</td>\n",
       "      <td>...</td>\n",
       "    </tr>\n",
       "    <tr>\n",
       "      <th>10836</th>\n",
       "      <td>Sya9a Maroc - FR</td>\n",
       "      <td>FAMILY</td>\n",
       "      <td>4.5</td>\n",
       "      <td>38</td>\n",
       "      <td>53M</td>\n",
       "      <td>5,000+</td>\n",
       "      <td>Free</td>\n",
       "      <td>0</td>\n",
       "      <td>Everyone</td>\n",
       "      <td>Education</td>\n",
       "      <td>July 25, 2017</td>\n",
       "      <td>1.48</td>\n",
       "      <td>4.1 and up</td>\n",
       "    </tr>\n",
       "    <tr>\n",
       "      <th>10837</th>\n",
       "      <td>Fr. Mike Schmitz Audio Teachings</td>\n",
       "      <td>FAMILY</td>\n",
       "      <td>5.0</td>\n",
       "      <td>4</td>\n",
       "      <td>3.6M</td>\n",
       "      <td>100+</td>\n",
       "      <td>Free</td>\n",
       "      <td>0</td>\n",
       "      <td>Everyone</td>\n",
       "      <td>Education</td>\n",
       "      <td>July 6, 2018</td>\n",
       "      <td>1.0</td>\n",
       "      <td>4.1 and up</td>\n",
       "    </tr>\n",
       "    <tr>\n",
       "      <th>10838</th>\n",
       "      <td>Parkinson Exercices FR</td>\n",
       "      <td>MEDICAL</td>\n",
       "      <td>NaN</td>\n",
       "      <td>3</td>\n",
       "      <td>9.5M</td>\n",
       "      <td>1,000+</td>\n",
       "      <td>Free</td>\n",
       "      <td>0</td>\n",
       "      <td>Everyone</td>\n",
       "      <td>Medical</td>\n",
       "      <td>January 20, 2017</td>\n",
       "      <td>1.0</td>\n",
       "      <td>2.2 and up</td>\n",
       "    </tr>\n",
       "    <tr>\n",
       "      <th>10839</th>\n",
       "      <td>The SCP Foundation DB fr nn5n</td>\n",
       "      <td>BOOKS_AND_REFERENCE</td>\n",
       "      <td>4.5</td>\n",
       "      <td>114</td>\n",
       "      <td>Varies with device</td>\n",
       "      <td>1,000+</td>\n",
       "      <td>Free</td>\n",
       "      <td>0</td>\n",
       "      <td>Mature 17+</td>\n",
       "      <td>Books &amp; Reference</td>\n",
       "      <td>January 19, 2015</td>\n",
       "      <td>Varies with device</td>\n",
       "      <td>Varies with device</td>\n",
       "    </tr>\n",
       "    <tr>\n",
       "      <th>10840</th>\n",
       "      <td>iHoroscope - 2018 Daily Horoscope &amp; Astrology</td>\n",
       "      <td>LIFESTYLE</td>\n",
       "      <td>4.5</td>\n",
       "      <td>398307</td>\n",
       "      <td>19M</td>\n",
       "      <td>10,000,000+</td>\n",
       "      <td>Free</td>\n",
       "      <td>0</td>\n",
       "      <td>Everyone</td>\n",
       "      <td>Lifestyle</td>\n",
       "      <td>July 25, 2018</td>\n",
       "      <td>Varies with device</td>\n",
       "      <td>Varies with device</td>\n",
       "    </tr>\n",
       "  </tbody>\n",
       "</table>\n",
       "<p>10841 rows × 13 columns</p>\n",
       "</div>"
      ],
      "text/plain": [
       "                                                     App             Category  \\\n",
       "0         Photo Editor & Candy Camera & Grid & ScrapBook       ART_AND_DESIGN   \n",
       "1                                    Coloring book moana       ART_AND_DESIGN   \n",
       "2      U Launcher Lite – FREE Live Cool Themes, Hide ...       ART_AND_DESIGN   \n",
       "3                                  Sketch - Draw & Paint       ART_AND_DESIGN   \n",
       "4                  Pixel Draw - Number Art Coloring Book       ART_AND_DESIGN   \n",
       "...                                                  ...                  ...   \n",
       "10836                                   Sya9a Maroc - FR               FAMILY   \n",
       "10837                   Fr. Mike Schmitz Audio Teachings               FAMILY   \n",
       "10838                             Parkinson Exercices FR              MEDICAL   \n",
       "10839                      The SCP Foundation DB fr nn5n  BOOKS_AND_REFERENCE   \n",
       "10840      iHoroscope - 2018 Daily Horoscope & Astrology            LIFESTYLE   \n",
       "\n",
       "       Rating Reviews                Size     Installs  Type Price  \\\n",
       "0         4.1     159                 19M      10,000+  Free     0   \n",
       "1         3.9     967                 14M     500,000+  Free     0   \n",
       "2         4.7   87510                8.7M   5,000,000+  Free     0   \n",
       "3         4.5  215644                 25M  50,000,000+  Free     0   \n",
       "4         4.3     967                2.8M     100,000+  Free     0   \n",
       "...       ...     ...                 ...          ...   ...   ...   \n",
       "10836     4.5      38                 53M       5,000+  Free     0   \n",
       "10837     5.0       4                3.6M         100+  Free     0   \n",
       "10838     NaN       3                9.5M       1,000+  Free     0   \n",
       "10839     4.5     114  Varies with device       1,000+  Free     0   \n",
       "10840     4.5  398307                 19M  10,000,000+  Free     0   \n",
       "\n",
       "      Content Rating                     Genres      Last Updated  \\\n",
       "0           Everyone               Art & Design   January 7, 2018   \n",
       "1           Everyone  Art & Design;Pretend Play  January 15, 2018   \n",
       "2           Everyone               Art & Design    August 1, 2018   \n",
       "3               Teen               Art & Design      June 8, 2018   \n",
       "4           Everyone    Art & Design;Creativity     June 20, 2018   \n",
       "...              ...                        ...               ...   \n",
       "10836       Everyone                  Education     July 25, 2017   \n",
       "10837       Everyone                  Education      July 6, 2018   \n",
       "10838       Everyone                    Medical  January 20, 2017   \n",
       "10839     Mature 17+          Books & Reference  January 19, 2015   \n",
       "10840       Everyone                  Lifestyle     July 25, 2018   \n",
       "\n",
       "              Current Ver         Android Ver  \n",
       "0                   1.0.0        4.0.3 and up  \n",
       "1                   2.0.0        4.0.3 and up  \n",
       "2                   1.2.4        4.0.3 and up  \n",
       "3      Varies with device          4.2 and up  \n",
       "4                     1.1          4.4 and up  \n",
       "...                   ...                 ...  \n",
       "10836                1.48          4.1 and up  \n",
       "10837                 1.0          4.1 and up  \n",
       "10838                 1.0          2.2 and up  \n",
       "10839  Varies with device  Varies with device  \n",
       "10840  Varies with device  Varies with device  \n",
       "\n",
       "[10841 rows x 13 columns]"
      ]
     },
     "execution_count": 3,
     "metadata": {},
     "output_type": "execute_result"
    }
   ],
   "source": [
    "df"
   ]
  },
  {
   "cell_type": "code",
   "execution_count": 4,
   "id": "1afeb0ca-be3b-40ea-b394-35adf650e5dd",
   "metadata": {},
   "outputs": [
    {
     "name": "stdout",
     "output_type": "stream",
     "text": [
      "<class 'pandas.core.frame.DataFrame'>\n",
      "RangeIndex: 10841 entries, 0 to 10840\n",
      "Data columns (total 13 columns):\n",
      " #   Column          Non-Null Count  Dtype  \n",
      "---  ------          --------------  -----  \n",
      " 0   App             10841 non-null  object \n",
      " 1   Category        10841 non-null  object \n",
      " 2   Rating          9367 non-null   float64\n",
      " 3   Reviews         10841 non-null  object \n",
      " 4   Size            10841 non-null  object \n",
      " 5   Installs        10841 non-null  object \n",
      " 6   Type            10840 non-null  object \n",
      " 7   Price           10841 non-null  object \n",
      " 8   Content Rating  10840 non-null  object \n",
      " 9   Genres          10841 non-null  object \n",
      " 10  Last Updated    10841 non-null  object \n",
      " 11  Current Ver     10833 non-null  object \n",
      " 12  Android Ver     10838 non-null  object \n",
      "dtypes: float64(1), object(12)\n",
      "memory usage: 1.1+ MB\n"
     ]
    }
   ],
   "source": [
    "df.info()"
   ]
  },
  {
   "cell_type": "code",
   "execution_count": 5,
   "id": "c4b08982-9d96-4de7-8e30-1d9b55354a8c",
   "metadata": {},
   "outputs": [
    {
     "data": {
      "text/plain": [
       "(10841, 13)"
      ]
     },
     "execution_count": 5,
     "metadata": {},
     "output_type": "execute_result"
    }
   ],
   "source": [
    "df.shape"
   ]
  },
  {
   "cell_type": "code",
   "execution_count": 6,
   "id": "c38dbd67-c973-4985-b4fe-988a24d87168",
   "metadata": {},
   "outputs": [],
   "source": [
    "#adjust column names with spacing\n",
    "df.columns = df.columns.str.replace(\" \", \"_\")"
   ]
  },
  {
   "cell_type": "code",
   "execution_count": 7,
   "id": "75674dae-ce45-45ce-9767-f484e4a1edeb",
   "metadata": {},
   "outputs": [
    {
     "name": "stdout",
     "output_type": "stream",
     "text": [
      "<class 'pandas.core.frame.DataFrame'>\n",
      "RangeIndex: 10841 entries, 0 to 10840\n",
      "Data columns (total 13 columns):\n",
      " #   Column          Non-Null Count  Dtype  \n",
      "---  ------          --------------  -----  \n",
      " 0   App             10841 non-null  object \n",
      " 1   Category        10841 non-null  object \n",
      " 2   Rating          9367 non-null   float64\n",
      " 3   Reviews         10841 non-null  object \n",
      " 4   Size            10841 non-null  object \n",
      " 5   Installs        10841 non-null  object \n",
      " 6   Type            10840 non-null  object \n",
      " 7   Price           10841 non-null  object \n",
      " 8   Content_Rating  10840 non-null  object \n",
      " 9   Genres          10841 non-null  object \n",
      " 10  Last_Updated    10841 non-null  object \n",
      " 11  Current_Ver     10833 non-null  object \n",
      " 12  Android_Ver     10838 non-null  object \n",
      "dtypes: float64(1), object(12)\n",
      "memory usage: 1.1+ MB\n"
     ]
    }
   ],
   "source": [
    "df.info()"
   ]
  },
  {
   "cell_type": "code",
   "execution_count": 8,
   "id": "f62bf56b-9489-423f-ad52-d2a9837fcc71",
   "metadata": {},
   "outputs": [],
   "source": [
    "\"\"\"We need to categorize the columns into three categories:-\n",
    "1- Data whose datatype is correct (App, Category, Rating, Type, Content_Rating, Genres)\n",
    "2- Data whose datatype must be number (Reviews, Size, Installs, Price, Current_Version, Android_Version)\n",
    "3- Data whose datatype must be a date (Last Updated)\"\"\"\n",
    "correct_cols = [\"App\", \"Category\", \"Rating\", \"Type\", \"Content Rating\", \"Genres\"]\n",
    "wrong_num_cols = [\"Reviews\", \"Size\", \"Installs\", \"Price\", \"Current_Ver\", \"Android_Ver\"]\n",
    "wrong_date_cols = [\"Last_Updated\"]"
   ]
  },
  {
   "cell_type": "code",
   "execution_count": 9,
   "id": "1a2f37ad-3c9b-4c20-92bd-ac32ccb18b3c",
   "metadata": {},
   "outputs": [
    {
     "data": {
      "text/plain": [
       "array(['159', '967', '87510', ..., '603', '1195', '398307'], dtype=object)"
      ]
     },
     "execution_count": 9,
     "metadata": {},
     "output_type": "execute_result"
    }
   ],
   "source": [
    "#Adjust wrong number columns - Reviews\n",
    "df[wrong_num_cols[0]].unique()"
   ]
  },
  {
   "cell_type": "code",
   "execution_count": 10,
   "id": "3cca0027-674b-4183-aaf3-4f5f4cc19a10",
   "metadata": {},
   "outputs": [
    {
     "data": {
      "text/plain": [
       "Reviews\n",
       "0         596\n",
       "1         272\n",
       "2         214\n",
       "3         175\n",
       "4         137\n",
       "         ... \n",
       "342912      1\n",
       "4272        1\n",
       "5517        1\n",
       "4057        1\n",
       "398307      1\n",
       "Name: count, Length: 6002, dtype: int64"
      ]
     },
     "execution_count": 10,
     "metadata": {},
     "output_type": "execute_result"
    }
   ],
   "source": [
    "df[wrong_num_cols[0]].value_counts()"
   ]
  },
  {
   "cell_type": "code",
   "execution_count": 11,
   "id": "ccb316a4-d78b-4a5e-ae0d-2e1e0629eed3",
   "metadata": {},
   "outputs": [],
   "source": [
    "# df[wrong_num_cols[0]] = df[wrong_num_cols[0]].astype(int)\n",
    "# df[wrong_num_cols[0]].dtype\n",
    "# Got error with the \"Reviews\" value \"3.0M\""
   ]
  },
  {
   "cell_type": "code",
   "execution_count": 12,
   "id": "8ebdc7d0-5628-46ba-b860-ab8dfa347a12",
   "metadata": {},
   "outputs": [
    {
     "data": {
      "text/html": [
       "<div>\n",
       "<style scoped>\n",
       "    .dataframe tbody tr th:only-of-type {\n",
       "        vertical-align: middle;\n",
       "    }\n",
       "\n",
       "    .dataframe tbody tr th {\n",
       "        vertical-align: top;\n",
       "    }\n",
       "\n",
       "    .dataframe thead th {\n",
       "        text-align: right;\n",
       "    }\n",
       "</style>\n",
       "<table border=\"1\" class=\"dataframe\">\n",
       "  <thead>\n",
       "    <tr style=\"text-align: right;\">\n",
       "      <th></th>\n",
       "      <th>App</th>\n",
       "      <th>Category</th>\n",
       "      <th>Rating</th>\n",
       "      <th>Reviews</th>\n",
       "      <th>Size</th>\n",
       "      <th>Installs</th>\n",
       "      <th>Type</th>\n",
       "      <th>Price</th>\n",
       "      <th>Content_Rating</th>\n",
       "      <th>Genres</th>\n",
       "      <th>Last_Updated</th>\n",
       "      <th>Current_Ver</th>\n",
       "      <th>Android_Ver</th>\n",
       "    </tr>\n",
       "  </thead>\n",
       "  <tbody>\n",
       "    <tr>\n",
       "      <th>10472</th>\n",
       "      <td>Life Made WI-Fi Touchscreen Photo Frame</td>\n",
       "      <td>1.9</td>\n",
       "      <td>19.0</td>\n",
       "      <td>3.0M</td>\n",
       "      <td>1,000+</td>\n",
       "      <td>Free</td>\n",
       "      <td>0</td>\n",
       "      <td>Everyone</td>\n",
       "      <td>NaN</td>\n",
       "      <td>February 11, 2018</td>\n",
       "      <td>1.0.19</td>\n",
       "      <td>4.0 and up</td>\n",
       "      <td>NaN</td>\n",
       "    </tr>\n",
       "  </tbody>\n",
       "</table>\n",
       "</div>"
      ],
      "text/plain": [
       "                                           App Category  Rating Reviews  \\\n",
       "10472  Life Made WI-Fi Touchscreen Photo Frame      1.9    19.0    3.0M   \n",
       "\n",
       "         Size Installs Type     Price Content_Rating             Genres  \\\n",
       "10472  1,000+     Free    0  Everyone            NaN  February 11, 2018   \n",
       "\n",
       "      Last_Updated Current_Ver Android_Ver  \n",
       "10472       1.0.19  4.0 and up         NaN  "
      ]
     },
     "execution_count": 12,
     "metadata": {},
     "output_type": "execute_result"
    }
   ],
   "source": [
    "df[df[wrong_num_cols[0]] == '3.0M']"
   ]
  },
  {
   "cell_type": "markdown",
   "id": "b31784c4-9721-47ce-a0eb-24ddc5fd2da6",
   "metadata": {},
   "source": [
    "## It looks like the values in the entire row startingfrom the \"Category\" column are shifted leftwards, so we need to shift them to the right, this will leave the the \"Category\" column empty "
   ]
  },
  {
   "cell_type": "code",
   "execution_count": 13,
   "id": "80fade24-1477-417e-a6a2-d3159532f068",
   "metadata": {},
   "outputs": [
    {
     "name": "stderr",
     "output_type": "stream",
     "text": [
      "/var/folders/y6/pt1tqh4d05j8dx0z6klwzy5h0000gn/T/ipykernel_1349/2488419559.py:1: FutureWarning: Setting an item of incompatible dtype is deprecated and will raise an error in a future version of pandas. Value '1.9' has dtype incompatible with float64, please explicitly cast to a compatible dtype first.\n",
      "  df.iloc[10472, 1:] = df.iloc[10472, 1:].shift(1)\n"
     ]
    },
    {
     "data": {
      "text/plain": [
       "App               Life Made WI-Fi Touchscreen Photo Frame\n",
       "Category                                             None\n",
       "Rating                                                1.9\n",
       "Reviews                                              19.0\n",
       "Size                                                 3.0M\n",
       "Installs                                           1,000+\n",
       "Type                                                 Free\n",
       "Price                                                   0\n",
       "Content_Rating                                   Everyone\n",
       "Genres                                                NaN\n",
       "Last_Updated                            February 11, 2018\n",
       "Current_Ver                                        1.0.19\n",
       "Android_Ver                                    4.0 and up\n",
       "Name: 10472, dtype: object"
      ]
     },
     "execution_count": 13,
     "metadata": {},
     "output_type": "execute_result"
    }
   ],
   "source": [
    "df.iloc[10472, 1:] = df.iloc[10472, 1:].shift(1)\n",
    "df.iloc[10472]"
   ]
  },
  {
   "cell_type": "markdown",
   "id": "f9fa7ac7-63da-49f6-aa0a-d38ee18f07d6",
   "metadata": {},
   "source": [
    "Now, let's retry to convert the \"Reviews\" column to numeric"
   ]
  },
  {
   "cell_type": "code",
   "execution_count": 14,
   "id": "4f449992-17d6-4f2c-a40f-ba1ae570ee8f",
   "metadata": {},
   "outputs": [
    {
     "data": {
      "text/plain": [
       "dtype('int64')"
      ]
     },
     "execution_count": 14,
     "metadata": {},
     "output_type": "execute_result"
    }
   ],
   "source": [
    "df[wrong_num_cols[0]] = df[wrong_num_cols[0]].astype(int)\n",
    "df[wrong_num_cols[0]].dtype"
   ]
  },
  {
   "cell_type": "code",
   "execution_count": 15,
   "id": "98db8f23-f6bf-4a28-8d78-21237a198f8c",
   "metadata": {},
   "outputs": [
    {
     "name": "stdout",
     "output_type": "stream",
     "text": [
      "<class 'pandas.core.frame.DataFrame'>\n",
      "RangeIndex: 10841 entries, 0 to 10840\n",
      "Data columns (total 13 columns):\n",
      " #   Column          Non-Null Count  Dtype \n",
      "---  ------          --------------  ----- \n",
      " 0   App             10841 non-null  object\n",
      " 1   Category        10840 non-null  object\n",
      " 2   Rating          9367 non-null   object\n",
      " 3   Reviews         10841 non-null  int64 \n",
      " 4   Size            10841 non-null  object\n",
      " 5   Installs        10841 non-null  object\n",
      " 6   Type            10840 non-null  object\n",
      " 7   Price           10841 non-null  object\n",
      " 8   Content_Rating  10841 non-null  object\n",
      " 9   Genres          10840 non-null  object\n",
      " 10  Last_Updated    10841 non-null  object\n",
      " 11  Current_Ver     10833 non-null  object\n",
      " 12  Android_Ver     10839 non-null  object\n",
      "dtypes: int64(1), object(12)\n",
      "memory usage: 1.1+ MB\n"
     ]
    }
   ],
   "source": [
    "df.info()"
   ]
  },
  {
   "cell_type": "code",
   "execution_count": 16,
   "id": "9b797a48-1331-4966-940e-f8828cada9d8",
   "metadata": {},
   "outputs": [],
   "source": [
    "df[\"Rating\"]=df[\"Rating\"].astype(float)"
   ]
  },
  {
   "cell_type": "code",
   "execution_count": 17,
   "id": "0b1dd7f8-135e-4f95-87ae-c30cd436c6c0",
   "metadata": {},
   "outputs": [
    {
     "data": {
      "text/plain": [
       "array(['19M', '14M', '8.7M', '25M', '2.8M', '5.6M', '29M', '33M', '3.1M',\n",
       "       '28M', '12M', '20M', '21M', '37M', '2.7M', '5.5M', '17M', '39M',\n",
       "       '31M', '4.2M', '7.0M', '23M', '6.0M', '6.1M', '4.6M', '9.2M',\n",
       "       '5.2M', '11M', '24M', 'Varies with device', '9.4M', '15M', '10M',\n",
       "       '1.2M', '26M', '8.0M', '7.9M', '56M', '57M', '35M', '54M', '201k',\n",
       "       '3.6M', '5.7M', '8.6M', '2.4M', '27M', '2.5M', '16M', '3.4M',\n",
       "       '8.9M', '3.9M', '2.9M', '38M', '32M', '5.4M', '18M', '1.1M',\n",
       "       '2.2M', '4.5M', '9.8M', '52M', '9.0M', '6.7M', '30M', '2.6M',\n",
       "       '7.1M', '3.7M', '22M', '7.4M', '6.4M', '3.2M', '8.2M', '9.9M',\n",
       "       '4.9M', '9.5M', '5.0M', '5.9M', '13M', '73M', '6.8M', '3.5M',\n",
       "       '4.0M', '2.3M', '7.2M', '2.1M', '42M', '7.3M', '9.1M', '55M',\n",
       "       '23k', '6.5M', '1.5M', '7.5M', '51M', '41M', '48M', '8.5M', '46M',\n",
       "       '8.3M', '4.3M', '4.7M', '3.3M', '40M', '7.8M', '8.8M', '6.6M',\n",
       "       '5.1M', '61M', '66M', '79k', '8.4M', '118k', '44M', '695k', '1.6M',\n",
       "       '6.2M', '18k', '53M', '1.4M', '3.0M', '5.8M', '3.8M', '9.6M',\n",
       "       '45M', '63M', '49M', '77M', '4.4M', '4.8M', '70M', '6.9M', '9.3M',\n",
       "       '10.0M', '8.1M', '36M', '84M', '97M', '2.0M', '1.9M', '1.8M',\n",
       "       '5.3M', '47M', '556k', '526k', '76M', '7.6M', '59M', '9.7M', '78M',\n",
       "       '72M', '43M', '7.7M', '6.3M', '334k', '34M', '93M', '65M', '79M',\n",
       "       '100M', '58M', '50M', '68M', '64M', '67M', '60M', '94M', '232k',\n",
       "       '99M', '624k', '95M', '8.5k', '41k', '292k', '11k', '80M', '1.7M',\n",
       "       '74M', '62M', '69M', '75M', '98M', '85M', '82M', '96M', '87M',\n",
       "       '71M', '86M', '91M', '81M', '92M', '83M', '88M', '704k', '862k',\n",
       "       '899k', '378k', '266k', '375k', '1.3M', '975k', '980k', '4.1M',\n",
       "       '89M', '696k', '544k', '525k', '920k', '779k', '853k', '720k',\n",
       "       '713k', '772k', '318k', '58k', '241k', '196k', '857k', '51k',\n",
       "       '953k', '865k', '251k', '930k', '540k', '313k', '746k', '203k',\n",
       "       '26k', '314k', '239k', '371k', '220k', '730k', '756k', '91k',\n",
       "       '293k', '17k', '74k', '14k', '317k', '78k', '924k', '902k', '818k',\n",
       "       '81k', '939k', '169k', '45k', '475k', '965k', '90M', '545k', '61k',\n",
       "       '283k', '655k', '714k', '93k', '872k', '121k', '322k', '1.0M',\n",
       "       '976k', '172k', '238k', '549k', '206k', '954k', '444k', '717k',\n",
       "       '210k', '609k', '308k', '705k', '306k', '904k', '473k', '175k',\n",
       "       '350k', '383k', '454k', '421k', '70k', '812k', '442k', '842k',\n",
       "       '417k', '412k', '459k', '478k', '335k', '782k', '721k', '430k',\n",
       "       '429k', '192k', '200k', '460k', '728k', '496k', '816k', '414k',\n",
       "       '506k', '887k', '613k', '243k', '569k', '778k', '683k', '592k',\n",
       "       '319k', '186k', '840k', '647k', '191k', '373k', '437k', '598k',\n",
       "       '716k', '585k', '982k', '222k', '219k', '55k', '948k', '323k',\n",
       "       '691k', '511k', '951k', '963k', '25k', '554k', '351k', '27k',\n",
       "       '82k', '208k', '913k', '514k', '551k', '29k', '103k', '898k',\n",
       "       '743k', '116k', '153k', '209k', '353k', '499k', '173k', '597k',\n",
       "       '809k', '122k', '411k', '400k', '801k', '787k', '237k', '50k',\n",
       "       '643k', '986k', '97k', '516k', '837k', '780k', '961k', '269k',\n",
       "       '20k', '498k', '600k', '749k', '642k', '881k', '72k', '656k',\n",
       "       '601k', '221k', '228k', '108k', '940k', '176k', '33k', '663k',\n",
       "       '34k', '942k', '259k', '164k', '458k', '245k', '629k', '28k',\n",
       "       '288k', '775k', '785k', '636k', '916k', '994k', '309k', '485k',\n",
       "       '914k', '903k', '608k', '500k', '54k', '562k', '847k', '957k',\n",
       "       '688k', '811k', '270k', '48k', '329k', '523k', '921k', '874k',\n",
       "       '981k', '784k', '280k', '24k', '518k', '754k', '892k', '154k',\n",
       "       '860k', '364k', '387k', '626k', '161k', '879k', '39k', '970k',\n",
       "       '170k', '141k', '160k', '144k', '143k', '190k', '376k', '193k',\n",
       "       '246k', '73k', '658k', '992k', '253k', '420k', '404k', '470k',\n",
       "       '226k', '240k', '89k', '234k', '257k', '861k', '467k', '157k',\n",
       "       '44k', '676k', '67k', '552k', '885k', '1020k', '582k', '619k'],\n",
       "      dtype=object)"
      ]
     },
     "execution_count": 17,
     "metadata": {},
     "output_type": "execute_result"
    }
   ],
   "source": [
    "#Adjust wrong number columns - Size\n",
    "df[wrong_num_cols[1]].unique()"
   ]
  },
  {
   "cell_type": "code",
   "execution_count": 18,
   "id": "d7b6c8e9-0d58-4cf1-af12-bf0e087d1856",
   "metadata": {},
   "outputs": [],
   "source": [
    "def adjust_size_col(size):\n",
    "    if not(size == \"Varies with device\"):\n",
    "        last_char = size[-1].upper()\n",
    "        value = float(size[:-1])\n",
    "        if last_char == \"M\":\n",
    "            value = value * 1024\n",
    "        return value"
   ]
  },
  {
   "cell_type": "code",
   "execution_count": 19,
   "id": "f4ad03fe-7d63-4712-b775-42d9e4aa1a36",
   "metadata": {},
   "outputs": [],
   "source": [
    "df[wrong_num_cols[1]] = df[wrong_num_cols[1]].apply(adjust_size_col)"
   ]
  },
  {
   "cell_type": "code",
   "execution_count": 20,
   "id": "3849111e-7032-42f6-9d21-df395ea757aa",
   "metadata": {},
   "outputs": [
    {
     "data": {
      "text/plain": [
       "dtype('float64')"
      ]
     },
     "execution_count": 20,
     "metadata": {},
     "output_type": "execute_result"
    }
   ],
   "source": [
    "df[wrong_num_cols[1]] = df[wrong_num_cols[1]].astype(float)\n",
    "df[wrong_num_cols[1]].dtype"
   ]
  },
  {
   "cell_type": "code",
   "execution_count": 21,
   "id": "616e24bf-7b2a-4ca8-b3fc-b57b75978501",
   "metadata": {},
   "outputs": [
    {
     "data": {
      "text/plain": [
       "array(['10,000+', '500,000+', '5,000,000+', '50,000,000+', '100,000+',\n",
       "       '50,000+', '1,000,000+', '10,000,000+', '5,000+', '100,000,000+',\n",
       "       '1,000,000,000+', '1,000+', '500,000,000+', '50+', '100+', '500+',\n",
       "       '10+', '1+', '5+', '0+', '0'], dtype=object)"
      ]
     },
     "execution_count": 21,
     "metadata": {},
     "output_type": "execute_result"
    }
   ],
   "source": [
    "#Adjust wrong number columns - Installs\n",
    "df[wrong_num_cols[2]].unique()"
   ]
  },
  {
   "cell_type": "markdown",
   "id": "75244cb1-4d70-42c6-b07e-22816944f7a3",
   "metadata": {},
   "source": [
    "For simplicity and to make the data type numeric, we will just remove the \"+\""
   ]
  },
  {
   "cell_type": "code",
   "execution_count": 22,
   "id": "fba5ac7e-17bf-4b99-997c-f7865bbdc02f",
   "metadata": {},
   "outputs": [],
   "source": [
    "def adjust_installs_col(installs):\n",
    "    if installs != \"0\":\n",
    "        installs = installs.replace(\",\", \"\")\n",
    "        installs = int(installs[:-1])\n",
    "    else:\n",
    "        installs = int(installs)\n",
    "    return installs"
   ]
  },
  {
   "cell_type": "code",
   "execution_count": 23,
   "id": "f91daae1-7bb3-40dd-86c1-8aeefbe9e458",
   "metadata": {},
   "outputs": [],
   "source": [
    "df[wrong_num_cols[2]] = df[wrong_num_cols[2]].apply(adjust_installs_col)"
   ]
  },
  {
   "cell_type": "code",
   "execution_count": 24,
   "id": "fa336498-da37-4f0e-942c-913f2d517f2f",
   "metadata": {},
   "outputs": [
    {
     "data": {
      "text/plain": [
       "dtype('int64')"
      ]
     },
     "execution_count": 24,
     "metadata": {},
     "output_type": "execute_result"
    }
   ],
   "source": [
    "df[wrong_num_cols[2]].dtype"
   ]
  },
  {
   "cell_type": "code",
   "execution_count": 25,
   "id": "70315e46-0fa2-4dc7-ada3-52d311a7055c",
   "metadata": {},
   "outputs": [
    {
     "data": {
      "text/plain": [
       "array(['0', '$4.99', '$3.99', '$6.99', '$1.49', '$2.99', '$7.99', '$5.99',\n",
       "       '$3.49', '$1.99', '$9.99', '$7.49', '$0.99', '$9.00', '$5.49',\n",
       "       '$10.00', '$24.99', '$11.99', '$79.99', '$16.99', '$14.99',\n",
       "       '$1.00', '$29.99', '$12.99', '$2.49', '$10.99', '$1.50', '$19.99',\n",
       "       '$15.99', '$33.99', '$74.99', '$39.99', '$3.95', '$4.49', '$1.70',\n",
       "       '$8.99', '$2.00', '$3.88', '$25.99', '$399.99', '$17.99',\n",
       "       '$400.00', '$3.02', '$1.76', '$4.84', '$4.77', '$1.61', '$2.50',\n",
       "       '$1.59', '$6.49', '$1.29', '$5.00', '$13.99', '$299.99', '$379.99',\n",
       "       '$37.99', '$18.99', '$389.99', '$19.90', '$8.49', '$1.75',\n",
       "       '$14.00', '$4.85', '$46.99', '$109.99', '$154.99', '$3.08',\n",
       "       '$2.59', '$4.80', '$1.96', '$19.40', '$3.90', '$4.59', '$15.46',\n",
       "       '$3.04', '$4.29', '$2.60', '$3.28', '$4.60', '$28.99', '$2.95',\n",
       "       '$2.90', '$1.97', '$200.00', '$89.99', '$2.56', '$30.99', '$3.61',\n",
       "       '$394.99', '$1.26', '$1.20', '$1.04'], dtype=object)"
      ]
     },
     "execution_count": 25,
     "metadata": {},
     "output_type": "execute_result"
    }
   ],
   "source": [
    "#Adjust wrong number columns - Price\n",
    "df[wrong_num_cols[3]].unique()"
   ]
  },
  {
   "cell_type": "code",
   "execution_count": 26,
   "id": "4db62f9d-e363-44df-af62-8df430c26059",
   "metadata": {},
   "outputs": [],
   "source": [
    "def price_adjustment(price):\n",
    "    if price[0] == \"$\":\n",
    "        price = float(price[1:])\n",
    "    else:\n",
    "        price = float(price)\n",
    "    return price"
   ]
  },
  {
   "cell_type": "code",
   "execution_count": 27,
   "id": "c7c079ec-1891-4a82-a54f-142b3058a903",
   "metadata": {},
   "outputs": [
    {
     "data": {
      "text/plain": [
       "dtype('float64')"
      ]
     },
     "execution_count": 27,
     "metadata": {},
     "output_type": "execute_result"
    }
   ],
   "source": [
    "df[wrong_num_cols[3]] = df[wrong_num_cols[3]].apply(price_adjustment)\n",
    "df[wrong_num_cols[3]].dtype"
   ]
  },
  {
   "cell_type": "code",
   "execution_count": 28,
   "id": "04cb9c6f-e79f-4ef4-b38a-fb03dfcd4328",
   "metadata": {},
   "outputs": [
    {
     "data": {
      "text/plain": [
       "['Reviews', 'Size', 'Installs', 'Price', 'Current_Ver', 'Android_Ver']"
      ]
     },
     "execution_count": 28,
     "metadata": {},
     "output_type": "execute_result"
    }
   ],
   "source": [
    "wrong_num_cols"
   ]
  },
  {
   "cell_type": "code",
   "execution_count": 29,
   "id": "57f3b613-ae20-4e58-aa19-0a00af21f6cc",
   "metadata": {},
   "outputs": [
    {
     "data": {
      "text/plain": [
       "Current_Ver\n",
       "Varies with device    1459\n",
       "1.0                    809\n",
       "1.1                    264\n",
       "1.2                    178\n",
       "2.0                    151\n",
       "                      ... \n",
       "5.44.1                   1\n",
       "7.16.8                   1\n",
       "04.08.00                 1\n",
       "2.10.06                  1\n",
       "2.0.148.0                1\n",
       "Name: count, Length: 2831, dtype: int64"
      ]
     },
     "execution_count": 29,
     "metadata": {},
     "output_type": "execute_result"
    }
   ],
   "source": [
    "#Adjust wrong number columns - Current_Ver\n",
    "df[wrong_num_cols[4]].value_counts()"
   ]
  },
  {
   "cell_type": "markdown",
   "id": "aba2c2aa-72a5-4a76-9700-cbc6533fc470",
   "metadata": {},
   "source": [
    "## it seems that the versions cannot be converted to when having too many decimal points, so for simplicity, we will just consider the first decimal point"
   ]
  },
  {
   "cell_type": "code",
   "execution_count": 30,
   "id": "8bde7fa7-6094-4791-900c-ad1e66bd9b87",
   "metadata": {},
   "outputs": [],
   "source": [
    "def adjust_current_version_col(curr_ver):\n",
    "    if (type(curr_ver)) == float:\n",
    "         version = curr_ver\n",
    "    elif (curr_ver == \"Varies with device\"):\n",
    "        version = np.nan\n",
    "    else:\n",
    "        try:\n",
    "            version = float(curr_ver[0:3])\n",
    "        except:\n",
    "            version = np.nan\n",
    "    return version"
   ]
  },
  {
   "cell_type": "code",
   "execution_count": 31,
   "id": "caec20ec-9c80-4973-828b-72b13c6908d2",
   "metadata": {},
   "outputs": [
    {
     "data": {
      "text/plain": [
       "dtype('float64')"
      ]
     },
     "execution_count": 31,
     "metadata": {},
     "output_type": "execute_result"
    }
   ],
   "source": [
    "df[wrong_num_cols[4]] = df[wrong_num_cols[4]].apply(adjust_current_version_col)\n",
    "df[wrong_num_cols[4]].dtype"
   ]
  },
  {
   "cell_type": "code",
   "execution_count": 32,
   "id": "475df9da-f99f-4728-8a78-2fc709f7cc24",
   "metadata": {},
   "outputs": [
    {
     "data": {
      "text/plain": [
       "Current_Ver\n",
       "1.0      1797\n",
       "1.1       760\n",
       "1.2       532\n",
       "2.0       410\n",
       "1.3       336\n",
       "         ... \n",
       "263.0       1\n",
       "65.0        1\n",
       "117.0       1\n",
       "132.0       1\n",
       "34.0        1\n",
       "Name: count, Length: 183, dtype: int64"
      ]
     },
     "execution_count": 32,
     "metadata": {},
     "output_type": "execute_result"
    }
   ],
   "source": [
    "df[wrong_num_cols[4]].value_counts()"
   ]
  },
  {
   "cell_type": "markdown",
   "id": "7d48aa51-d21b-46e5-99f6-c63428fc1629",
   "metadata": {},
   "source": [
    "## Some apps has very high number of \"Current_Ver\" which may be not realistic, and may be for very old apps, so let's see the summary stats of this column"
   ]
  },
  {
   "cell_type": "code",
   "execution_count": 33,
   "id": "ba43f0f3-837a-4e0a-8eb3-6d2849a9e80d",
   "metadata": {},
   "outputs": [
    {
     "data": {
      "text/plain": [
       "count    9222.000000\n",
       "mean        6.374680\n",
       "std        32.335942\n",
       "min         0.000000\n",
       "25%         1.100000\n",
       "50%         2.000000\n",
       "75%         3.700000\n",
       "max       858.000000\n",
       "Name: Current_Ver, dtype: float64"
      ]
     },
     "execution_count": 33,
     "metadata": {},
     "output_type": "execute_result"
    }
   ],
   "source": [
    "df[wrong_num_cols[4]].describe()"
   ]
  },
  {
   "cell_type": "markdown",
   "id": "bfc972d0-b077-4017-aec6-2cc244131b7b",
   "metadata": {},
   "source": [
    "## It seems, that the large numbers are outliers since 75% of the data is les than 3.7, so better to handle that later when handling outliers"
   ]
  },
  {
   "cell_type": "code",
   "execution_count": 34,
   "id": "f8e5264a-8f92-45d6-a214-574d35ff0f4e",
   "metadata": {},
   "outputs": [
    {
     "data": {
      "text/plain": [
       "['Reviews', 'Size', 'Installs', 'Price', 'Current_Ver', 'Android_Ver']"
      ]
     },
     "execution_count": 34,
     "metadata": {},
     "output_type": "execute_result"
    }
   ],
   "source": [
    "wrong_num_cols"
   ]
  },
  {
   "cell_type": "code",
   "execution_count": 35,
   "id": "e9a3b795-3306-4a88-aa65-31891a0d9a60",
   "metadata": {},
   "outputs": [
    {
     "data": {
      "text/plain": [
       "Android_Ver\n",
       "4.1 and up            2451\n",
       "4.0.3 and up          1501\n",
       "4.0 and up            1376\n",
       "Varies with device    1362\n",
       "4.4 and up             980\n",
       "2.3 and up             652\n",
       "5.0 and up             601\n",
       "4.2 and up             394\n",
       "2.3.3 and up           281\n",
       "2.2 and up             244\n",
       "4.3 and up             243\n",
       "3.0 and up             241\n",
       "2.1 and up             134\n",
       "1.6 and up             116\n",
       "6.0 and up              60\n",
       "7.0 and up              42\n",
       "3.2 and up              36\n",
       "2.0 and up              32\n",
       "5.1 and up              24\n",
       "1.5 and up              20\n",
       "4.4W and up             12\n",
       "3.1 and up              10\n",
       "2.0.1 and up             7\n",
       "8.0 and up               6\n",
       "7.1 and up               3\n",
       "4.0.3 - 7.1.1            2\n",
       "5.0 - 8.0                2\n",
       "1.0 and up               2\n",
       "7.0 - 7.1.1              1\n",
       "4.1 - 7.1.1              1\n",
       "5.0 - 6.0                1\n",
       "2.2 - 7.1.1              1\n",
       "5.0 - 7.1.1              1\n",
       "Name: count, dtype: int64"
      ]
     },
     "execution_count": 35,
     "metadata": {},
     "output_type": "execute_result"
    }
   ],
   "source": [
    "#Adjust wrong number columns - Android_Ver\n",
    "df[wrong_num_cols[5]].value_counts()"
   ]
  },
  {
   "cell_type": "code",
   "execution_count": 36,
   "id": "da6fa417-b7da-48e4-8cce-bdfe46679fe1",
   "metadata": {},
   "outputs": [
    {
     "data": {
      "text/plain": [
       "33"
      ]
     },
     "execution_count": 36,
     "metadata": {},
     "output_type": "execute_result"
    }
   ],
   "source": [
    "df[wrong_num_cols[5]].nunique()"
   ]
  },
  {
   "cell_type": "markdown",
   "id": "d3a82664-af2a-4bf2-9691-62494ba80f65",
   "metadata": {},
   "source": [
    "## We can handle that by just considering the minimum version for each app"
   ]
  },
  {
   "cell_type": "code",
   "execution_count": 37,
   "id": "5b9acae1-5b0c-4dd9-8de2-9f157aa52f2b",
   "metadata": {},
   "outputs": [],
   "source": [
    "def get_min_ver(ver):\n",
    "    if pd.isna(ver) or ver == \"Varies with device\":\n",
    "        ver = np.nan\n",
    "    else:\n",
    "        try:\n",
    "            if \"and up\" in ver:\n",
    "                ver = float(ver.split(\" \")[0])\n",
    "            elif \" - \" in ver:\n",
    "                ver = float(ver.split(\" - \")[0])\n",
    "        except:\n",
    "            ver = float(ver[0:3])\n",
    "    return ver\n",
    "    \n",
    "    "
   ]
  },
  {
   "cell_type": "code",
   "execution_count": 38,
   "id": "5e04e755-b536-4908-b122-2ce9ee041715",
   "metadata": {},
   "outputs": [
    {
     "data": {
      "text/plain": [
       "dtype('float64')"
      ]
     },
     "execution_count": 38,
     "metadata": {},
     "output_type": "execute_result"
    }
   ],
   "source": [
    "df[wrong_num_cols[5]] = df[wrong_num_cols[5]].apply(get_min_ver)\n",
    "df[wrong_num_cols[5]].dtype"
   ]
  },
  {
   "cell_type": "code",
   "execution_count": 39,
   "id": "a3c551c8-bd9b-4939-a8f6-d809b70c887b",
   "metadata": {},
   "outputs": [
    {
     "data": {
      "text/plain": [
       "Android_Ver\n",
       "4.0    2879\n",
       "4.1    2452\n",
       "4.4     992\n",
       "2.3     933\n",
       "5.0     605\n",
       "4.2     394\n",
       "2.2     245\n",
       "4.3     243\n",
       "3.0     241\n",
       "2.1     134\n",
       "1.6     116\n",
       "6.0      60\n",
       "7.0      43\n",
       "2.0      39\n",
       "3.2      36\n",
       "5.1      24\n",
       "1.5      20\n",
       "3.1      10\n",
       "8.0       6\n",
       "7.1       3\n",
       "1.0       2\n",
       "Name: count, dtype: int64"
      ]
     },
     "execution_count": 39,
     "metadata": {},
     "output_type": "execute_result"
    }
   ],
   "source": [
    "df[wrong_num_cols[5]].value_counts()"
   ]
  },
  {
   "cell_type": "code",
   "execution_count": 40,
   "id": "9147dede-9d01-4cf1-af55-a8f9283b2266",
   "metadata": {},
   "outputs": [
    {
     "name": "stdout",
     "output_type": "stream",
     "text": [
      "<class 'pandas.core.frame.DataFrame'>\n",
      "RangeIndex: 10841 entries, 0 to 10840\n",
      "Data columns (total 13 columns):\n",
      " #   Column          Non-Null Count  Dtype  \n",
      "---  ------          --------------  -----  \n",
      " 0   App             10841 non-null  object \n",
      " 1   Category        10840 non-null  object \n",
      " 2   Rating          9367 non-null   float64\n",
      " 3   Reviews         10841 non-null  int64  \n",
      " 4   Size            9146 non-null   float64\n",
      " 5   Installs        10841 non-null  int64  \n",
      " 6   Type            10840 non-null  object \n",
      " 7   Price           10841 non-null  float64\n",
      " 8   Content_Rating  10841 non-null  object \n",
      " 9   Genres          10840 non-null  object \n",
      " 10  Last_Updated    10841 non-null  object \n",
      " 11  Current_Ver     9222 non-null   float64\n",
      " 12  Android_Ver     9477 non-null   float64\n",
      "dtypes: float64(5), int64(2), object(6)\n",
      "memory usage: 1.1+ MB\n"
     ]
    }
   ],
   "source": [
    "df.info()"
   ]
  },
  {
   "cell_type": "markdown",
   "id": "d4fd88d2-4961-413f-af76-eb3e00dad11d",
   "metadata": {},
   "source": [
    "## Now, all columns with erong numeric values are fixed, let's fix the wrong date values "
   ]
  },
  {
   "cell_type": "code",
   "execution_count": 41,
   "id": "f63ea5c6-0427-43aa-a7e5-a254bc2bc644",
   "metadata": {},
   "outputs": [
    {
     "data": {
      "text/plain": [
       "['Last_Updated']"
      ]
     },
     "execution_count": 41,
     "metadata": {},
     "output_type": "execute_result"
    }
   ],
   "source": [
    "wrong_date_cols"
   ]
  },
  {
   "cell_type": "code",
   "execution_count": 42,
   "id": "3131d56a-0ea0-429f-bca8-7c89efdd1259",
   "metadata": {},
   "outputs": [
    {
     "data": {
      "text/plain": [
       "0         January 7, 2018\n",
       "1        January 15, 2018\n",
       "2          August 1, 2018\n",
       "3            June 8, 2018\n",
       "4           June 20, 2018\n",
       "               ...       \n",
       "10836       July 25, 2017\n",
       "10837        July 6, 2018\n",
       "10838    January 20, 2017\n",
       "10839    January 19, 2015\n",
       "10840       July 25, 2018\n",
       "Name: Last_Updated, Length: 10841, dtype: object"
      ]
     },
     "execution_count": 42,
     "metadata": {},
     "output_type": "execute_result"
    }
   ],
   "source": [
    "df[wrong_date_cols[0]]"
   ]
  },
  {
   "cell_type": "code",
   "execution_count": 43,
   "id": "add10467-9873-4008-9f05-ec74a809d214",
   "metadata": {},
   "outputs": [],
   "source": [
    "df[wrong_date_cols[0]] = pd.to_datetime(df[wrong_date_cols[0]])"
   ]
  },
  {
   "cell_type": "code",
   "execution_count": 44,
   "id": "6a3bffb8-60af-4286-8925-36485aa253cc",
   "metadata": {},
   "outputs": [
    {
     "data": {
      "text/plain": [
       "0       2018-01-07\n",
       "1       2018-01-15\n",
       "2       2018-08-01\n",
       "3       2018-06-08\n",
       "4       2018-06-20\n",
       "           ...    \n",
       "10836   2017-07-25\n",
       "10837   2018-07-06\n",
       "10838   2017-01-20\n",
       "10839   2015-01-19\n",
       "10840   2018-07-25\n",
       "Name: Last_Updated, Length: 10841, dtype: datetime64[ns]"
      ]
     },
     "execution_count": 44,
     "metadata": {},
     "output_type": "execute_result"
    }
   ],
   "source": [
    "df[wrong_date_cols[0]]"
   ]
  },
  {
   "cell_type": "code",
   "execution_count": 45,
   "id": "1d67d717-4937-4d84-b4b6-f5e1945b38a5",
   "metadata": {},
   "outputs": [
    {
     "name": "stdout",
     "output_type": "stream",
     "text": [
      "<class 'pandas.core.frame.DataFrame'>\n",
      "RangeIndex: 10841 entries, 0 to 10840\n",
      "Data columns (total 13 columns):\n",
      " #   Column          Non-Null Count  Dtype         \n",
      "---  ------          --------------  -----         \n",
      " 0   App             10841 non-null  object        \n",
      " 1   Category        10840 non-null  object        \n",
      " 2   Rating          9367 non-null   float64       \n",
      " 3   Reviews         10841 non-null  int64         \n",
      " 4   Size            9146 non-null   float64       \n",
      " 5   Installs        10841 non-null  int64         \n",
      " 6   Type            10840 non-null  object        \n",
      " 7   Price           10841 non-null  float64       \n",
      " 8   Content_Rating  10841 non-null  object        \n",
      " 9   Genres          10840 non-null  object        \n",
      " 10  Last_Updated    10841 non-null  datetime64[ns]\n",
      " 11  Current_Ver     9222 non-null   float64       \n",
      " 12  Android_Ver     9477 non-null   float64       \n",
      "dtypes: datetime64[ns](1), float64(5), int64(2), object(5)\n",
      "memory usage: 1.1+ MB\n"
     ]
    }
   ],
   "source": [
    "df.info()"
   ]
  },
  {
   "cell_type": "markdown",
   "id": "44165751-a780-4c2d-b2d0-776053a44792",
   "metadata": {},
   "source": [
    "## Now, all datatypes are fixed"
   ]
  },
  {
   "cell_type": "markdown",
   "id": "e89bf008-e640-48ef-8173-0ad3c6ce25fd",
   "metadata": {},
   "source": [
    "# 2. Check duplicates"
   ]
  },
  {
   "cell_type": "code",
   "execution_count": 46,
   "id": "7af0a900-ede0-489f-9e36-81065cf57fd9",
   "metadata": {},
   "outputs": [
    {
     "data": {
      "text/plain": [
       "np.int64(483)"
      ]
     },
     "execution_count": 46,
     "metadata": {},
     "output_type": "execute_result"
    }
   ],
   "source": [
    "df.duplicated().sum()"
   ]
  },
  {
   "cell_type": "code",
   "execution_count": 47,
   "id": "e9f393be-d99b-4646-a45d-3b540ba05c6f",
   "metadata": {},
   "outputs": [
    {
     "data": {
      "text/html": [
       "<div>\n",
       "<style scoped>\n",
       "    .dataframe tbody tr th:only-of-type {\n",
       "        vertical-align: middle;\n",
       "    }\n",
       "\n",
       "    .dataframe tbody tr th {\n",
       "        vertical-align: top;\n",
       "    }\n",
       "\n",
       "    .dataframe thead th {\n",
       "        text-align: right;\n",
       "    }\n",
       "</style>\n",
       "<table border=\"1\" class=\"dataframe\">\n",
       "  <thead>\n",
       "    <tr style=\"text-align: right;\">\n",
       "      <th></th>\n",
       "      <th>App</th>\n",
       "      <th>Category</th>\n",
       "      <th>Rating</th>\n",
       "      <th>Reviews</th>\n",
       "      <th>Size</th>\n",
       "      <th>Installs</th>\n",
       "      <th>Type</th>\n",
       "      <th>Price</th>\n",
       "      <th>Content_Rating</th>\n",
       "      <th>Genres</th>\n",
       "      <th>Last_Updated</th>\n",
       "      <th>Current_Ver</th>\n",
       "      <th>Android_Ver</th>\n",
       "    </tr>\n",
       "  </thead>\n",
       "  <tbody>\n",
       "    <tr>\n",
       "      <th>164</th>\n",
       "      <td>Ebook Reader</td>\n",
       "      <td>BOOKS_AND_REFERENCE</td>\n",
       "      <td>4.1</td>\n",
       "      <td>85842</td>\n",
       "      <td>37888.0</td>\n",
       "      <td>5000000</td>\n",
       "      <td>Free</td>\n",
       "      <td>0.0</td>\n",
       "      <td>Everyone</td>\n",
       "      <td>Books &amp; Reference</td>\n",
       "      <td>2018-06-25</td>\n",
       "      <td>5.0</td>\n",
       "      <td>4.0</td>\n",
       "    </tr>\n",
       "    <tr>\n",
       "      <th>192</th>\n",
       "      <td>Docs To Go™ Free Office Suite</td>\n",
       "      <td>BUSINESS</td>\n",
       "      <td>4.1</td>\n",
       "      <td>217730</td>\n",
       "      <td>NaN</td>\n",
       "      <td>50000000</td>\n",
       "      <td>Free</td>\n",
       "      <td>0.0</td>\n",
       "      <td>Everyone</td>\n",
       "      <td>Business</td>\n",
       "      <td>2018-04-02</td>\n",
       "      <td>NaN</td>\n",
       "      <td>NaN</td>\n",
       "    </tr>\n",
       "    <tr>\n",
       "      <th>193</th>\n",
       "      <td>Google My Business</td>\n",
       "      <td>BUSINESS</td>\n",
       "      <td>4.4</td>\n",
       "      <td>70991</td>\n",
       "      <td>NaN</td>\n",
       "      <td>5000000</td>\n",
       "      <td>Free</td>\n",
       "      <td>0.0</td>\n",
       "      <td>Everyone</td>\n",
       "      <td>Business</td>\n",
       "      <td>2018-07-24</td>\n",
       "      <td>2.1</td>\n",
       "      <td>4.4</td>\n",
       "    </tr>\n",
       "    <tr>\n",
       "      <th>204</th>\n",
       "      <td>Box</td>\n",
       "      <td>BUSINESS</td>\n",
       "      <td>4.2</td>\n",
       "      <td>159872</td>\n",
       "      <td>NaN</td>\n",
       "      <td>10000000</td>\n",
       "      <td>Free</td>\n",
       "      <td>0.0</td>\n",
       "      <td>Everyone</td>\n",
       "      <td>Business</td>\n",
       "      <td>2018-07-31</td>\n",
       "      <td>NaN</td>\n",
       "      <td>NaN</td>\n",
       "    </tr>\n",
       "    <tr>\n",
       "      <th>213</th>\n",
       "      <td>ZOOM Cloud Meetings</td>\n",
       "      <td>BUSINESS</td>\n",
       "      <td>4.4</td>\n",
       "      <td>31614</td>\n",
       "      <td>37888.0</td>\n",
       "      <td>10000000</td>\n",
       "      <td>Free</td>\n",
       "      <td>0.0</td>\n",
       "      <td>Everyone</td>\n",
       "      <td>Business</td>\n",
       "      <td>2018-07-20</td>\n",
       "      <td>4.1</td>\n",
       "      <td>4.0</td>\n",
       "    </tr>\n",
       "    <tr>\n",
       "      <th>...</th>\n",
       "      <td>...</td>\n",
       "      <td>...</td>\n",
       "      <td>...</td>\n",
       "      <td>...</td>\n",
       "      <td>...</td>\n",
       "      <td>...</td>\n",
       "      <td>...</td>\n",
       "      <td>...</td>\n",
       "      <td>...</td>\n",
       "      <td>...</td>\n",
       "      <td>...</td>\n",
       "      <td>...</td>\n",
       "      <td>...</td>\n",
       "    </tr>\n",
       "    <tr>\n",
       "      <th>8643</th>\n",
       "      <td>Wunderlist: To-Do List &amp; Tasks</td>\n",
       "      <td>PRODUCTIVITY</td>\n",
       "      <td>4.6</td>\n",
       "      <td>404610</td>\n",
       "      <td>NaN</td>\n",
       "      <td>10000000</td>\n",
       "      <td>Free</td>\n",
       "      <td>0.0</td>\n",
       "      <td>Everyone</td>\n",
       "      <td>Productivity</td>\n",
       "      <td>2018-04-06</td>\n",
       "      <td>NaN</td>\n",
       "      <td>NaN</td>\n",
       "    </tr>\n",
       "    <tr>\n",
       "      <th>8654</th>\n",
       "      <td>TickTick: To Do List with Reminder, Day Planner</td>\n",
       "      <td>PRODUCTIVITY</td>\n",
       "      <td>4.6</td>\n",
       "      <td>25370</td>\n",
       "      <td>NaN</td>\n",
       "      <td>1000000</td>\n",
       "      <td>Free</td>\n",
       "      <td>0.0</td>\n",
       "      <td>Everyone</td>\n",
       "      <td>Productivity</td>\n",
       "      <td>2018-08-06</td>\n",
       "      <td>NaN</td>\n",
       "      <td>NaN</td>\n",
       "    </tr>\n",
       "    <tr>\n",
       "      <th>8658</th>\n",
       "      <td>ColorNote Notepad Notes</td>\n",
       "      <td>PRODUCTIVITY</td>\n",
       "      <td>4.6</td>\n",
       "      <td>2401017</td>\n",
       "      <td>NaN</td>\n",
       "      <td>100000000</td>\n",
       "      <td>Free</td>\n",
       "      <td>0.0</td>\n",
       "      <td>Everyone</td>\n",
       "      <td>Productivity</td>\n",
       "      <td>2018-06-27</td>\n",
       "      <td>NaN</td>\n",
       "      <td>NaN</td>\n",
       "    </tr>\n",
       "    <tr>\n",
       "      <th>10049</th>\n",
       "      <td>Airway Ex - Intubate. Anesthetize. Train.</td>\n",
       "      <td>MEDICAL</td>\n",
       "      <td>4.3</td>\n",
       "      <td>123</td>\n",
       "      <td>88064.0</td>\n",
       "      <td>10000</td>\n",
       "      <td>Free</td>\n",
       "      <td>0.0</td>\n",
       "      <td>Everyone</td>\n",
       "      <td>Medical</td>\n",
       "      <td>2018-06-01</td>\n",
       "      <td>0.6</td>\n",
       "      <td>5.0</td>\n",
       "    </tr>\n",
       "    <tr>\n",
       "      <th>10768</th>\n",
       "      <td>AAFP</td>\n",
       "      <td>MEDICAL</td>\n",
       "      <td>3.8</td>\n",
       "      <td>63</td>\n",
       "      <td>24576.0</td>\n",
       "      <td>10000</td>\n",
       "      <td>Free</td>\n",
       "      <td>0.0</td>\n",
       "      <td>Everyone</td>\n",
       "      <td>Medical</td>\n",
       "      <td>2018-06-22</td>\n",
       "      <td>2.3</td>\n",
       "      <td>5.0</td>\n",
       "    </tr>\n",
       "  </tbody>\n",
       "</table>\n",
       "<p>893 rows × 13 columns</p>\n",
       "</div>"
      ],
      "text/plain": [
       "                                                   App             Category  \\\n",
       "164                                       Ebook Reader  BOOKS_AND_REFERENCE   \n",
       "192                      Docs To Go™ Free Office Suite             BUSINESS   \n",
       "193                                 Google My Business             BUSINESS   \n",
       "204                                                Box             BUSINESS   \n",
       "213                                ZOOM Cloud Meetings             BUSINESS   \n",
       "...                                                ...                  ...   \n",
       "8643                    Wunderlist: To-Do List & Tasks         PRODUCTIVITY   \n",
       "8654   TickTick: To Do List with Reminder, Day Planner         PRODUCTIVITY   \n",
       "8658                           ColorNote Notepad Notes         PRODUCTIVITY   \n",
       "10049        Airway Ex - Intubate. Anesthetize. Train.              MEDICAL   \n",
       "10768                                             AAFP              MEDICAL   \n",
       "\n",
       "       Rating  Reviews     Size   Installs  Type  Price Content_Rating  \\\n",
       "164       4.1    85842  37888.0    5000000  Free    0.0       Everyone   \n",
       "192       4.1   217730      NaN   50000000  Free    0.0       Everyone   \n",
       "193       4.4    70991      NaN    5000000  Free    0.0       Everyone   \n",
       "204       4.2   159872      NaN   10000000  Free    0.0       Everyone   \n",
       "213       4.4    31614  37888.0   10000000  Free    0.0       Everyone   \n",
       "...       ...      ...      ...        ...   ...    ...            ...   \n",
       "8643      4.6   404610      NaN   10000000  Free    0.0       Everyone   \n",
       "8654      4.6    25370      NaN    1000000  Free    0.0       Everyone   \n",
       "8658      4.6  2401017      NaN  100000000  Free    0.0       Everyone   \n",
       "10049     4.3      123  88064.0      10000  Free    0.0       Everyone   \n",
       "10768     3.8       63  24576.0      10000  Free    0.0       Everyone   \n",
       "\n",
       "                  Genres Last_Updated  Current_Ver  Android_Ver  \n",
       "164    Books & Reference   2018-06-25          5.0          4.0  \n",
       "192             Business   2018-04-02          NaN          NaN  \n",
       "193             Business   2018-07-24          2.1          4.4  \n",
       "204             Business   2018-07-31          NaN          NaN  \n",
       "213             Business   2018-07-20          4.1          4.0  \n",
       "...                  ...          ...          ...          ...  \n",
       "8643        Productivity   2018-04-06          NaN          NaN  \n",
       "8654        Productivity   2018-08-06          NaN          NaN  \n",
       "8658        Productivity   2018-06-27          NaN          NaN  \n",
       "10049            Medical   2018-06-01          0.6          5.0  \n",
       "10768            Medical   2018-06-22          2.3          5.0  \n",
       "\n",
       "[893 rows x 13 columns]"
      ]
     },
     "execution_count": 47,
     "metadata": {},
     "output_type": "execute_result"
    }
   ],
   "source": [
    "df[df.duplicated(keep = False)]"
   ]
  },
  {
   "cell_type": "code",
   "execution_count": 48,
   "id": "60e21a6e-3466-4b23-9da3-65ed1b3a5a4a",
   "metadata": {},
   "outputs": [],
   "source": [
    "df = df.drop_duplicates()"
   ]
  },
  {
   "cell_type": "code",
   "execution_count": 49,
   "id": "8ba4eef1-69b5-4283-b25b-ea2f5913f2e8",
   "metadata": {},
   "outputs": [
    {
     "name": "stdout",
     "output_type": "stream",
     "text": [
      "<class 'pandas.core.frame.DataFrame'>\n",
      "Index: 10358 entries, 0 to 10840\n",
      "Data columns (total 13 columns):\n",
      " #   Column          Non-Null Count  Dtype         \n",
      "---  ------          --------------  -----         \n",
      " 0   App             10358 non-null  object        \n",
      " 1   Category        10357 non-null  object        \n",
      " 2   Rating          8893 non-null   float64       \n",
      " 3   Reviews         10358 non-null  int64         \n",
      " 4   Size            8832 non-null   float64       \n",
      " 5   Installs        10358 non-null  int64         \n",
      " 6   Type            10357 non-null  object        \n",
      " 7   Price           10358 non-null  float64       \n",
      " 8   Content_Rating  10358 non-null  object        \n",
      " 9   Genres          10357 non-null  object        \n",
      " 10  Last_Updated    10358 non-null  datetime64[ns]\n",
      " 11  Current_Ver     8896 non-null   float64       \n",
      " 12  Android_Ver     9135 non-null   float64       \n",
      "dtypes: datetime64[ns](1), float64(5), int64(2), object(5)\n",
      "memory usage: 1.1+ MB\n"
     ]
    }
   ],
   "source": [
    "df.info()"
   ]
  },
  {
   "cell_type": "markdown",
   "id": "992f573d-238c-4e8d-a054-9a9baba618c0",
   "metadata": {},
   "source": [
    "# check duplicates for columns that cannot have duplicates, which is only \"App\" column "
   ]
  },
  {
   "cell_type": "code",
   "execution_count": 50,
   "id": "38949675-d5f0-4b93-aa03-2b5069143349",
   "metadata": {},
   "outputs": [
    {
     "data": {
      "text/plain": [
       "np.int64(698)"
      ]
     },
     "execution_count": 50,
     "metadata": {},
     "output_type": "execute_result"
    }
   ],
   "source": [
    "df[\"App\"].duplicated().sum()"
   ]
  },
  {
   "cell_type": "code",
   "execution_count": 51,
   "id": "2c006c89-2138-428c-aa98-94f01a4e8e6c",
   "metadata": {},
   "outputs": [
    {
     "data": {
      "text/html": [
       "<div>\n",
       "<style scoped>\n",
       "    .dataframe tbody tr th:only-of-type {\n",
       "        vertical-align: middle;\n",
       "    }\n",
       "\n",
       "    .dataframe tbody tr th {\n",
       "        vertical-align: top;\n",
       "    }\n",
       "\n",
       "    .dataframe thead th {\n",
       "        text-align: right;\n",
       "    }\n",
       "</style>\n",
       "<table border=\"1\" class=\"dataframe\">\n",
       "  <thead>\n",
       "    <tr style=\"text-align: right;\">\n",
       "      <th></th>\n",
       "      <th>App</th>\n",
       "      <th>Category</th>\n",
       "      <th>Rating</th>\n",
       "      <th>Reviews</th>\n",
       "      <th>Size</th>\n",
       "      <th>Installs</th>\n",
       "      <th>Type</th>\n",
       "      <th>Price</th>\n",
       "      <th>Content_Rating</th>\n",
       "      <th>Genres</th>\n",
       "      <th>Last_Updated</th>\n",
       "      <th>Current_Ver</th>\n",
       "      <th>Android_Ver</th>\n",
       "    </tr>\n",
       "  </thead>\n",
       "  <tbody>\n",
       "    <tr>\n",
       "      <th>1</th>\n",
       "      <td>Coloring book moana</td>\n",
       "      <td>ART_AND_DESIGN</td>\n",
       "      <td>3.9</td>\n",
       "      <td>967</td>\n",
       "      <td>14336.0</td>\n",
       "      <td>500000</td>\n",
       "      <td>Free</td>\n",
       "      <td>0.0</td>\n",
       "      <td>Everyone</td>\n",
       "      <td>Art &amp; Design;Pretend Play</td>\n",
       "      <td>2018-01-15</td>\n",
       "      <td>2.0</td>\n",
       "      <td>4.0</td>\n",
       "    </tr>\n",
       "    <tr>\n",
       "      <th>23</th>\n",
       "      <td>Mcqueen Coloring pages</td>\n",
       "      <td>ART_AND_DESIGN</td>\n",
       "      <td>NaN</td>\n",
       "      <td>61</td>\n",
       "      <td>7168.0</td>\n",
       "      <td>100000</td>\n",
       "      <td>Free</td>\n",
       "      <td>0.0</td>\n",
       "      <td>Everyone</td>\n",
       "      <td>Art &amp; Design;Action &amp; Adventure</td>\n",
       "      <td>2018-03-07</td>\n",
       "      <td>1.0</td>\n",
       "      <td>4.1</td>\n",
       "    </tr>\n",
       "    <tr>\n",
       "      <th>36</th>\n",
       "      <td>UNICORN - Color By Number &amp; Pixel Art Coloring</td>\n",
       "      <td>ART_AND_DESIGN</td>\n",
       "      <td>4.7</td>\n",
       "      <td>8145</td>\n",
       "      <td>24576.0</td>\n",
       "      <td>500000</td>\n",
       "      <td>Free</td>\n",
       "      <td>0.0</td>\n",
       "      <td>Everyone</td>\n",
       "      <td>Art &amp; Design;Creativity</td>\n",
       "      <td>2018-08-02</td>\n",
       "      <td>1.0</td>\n",
       "      <td>4.4</td>\n",
       "    </tr>\n",
       "    <tr>\n",
       "      <th>42</th>\n",
       "      <td>Textgram - write on photos</td>\n",
       "      <td>ART_AND_DESIGN</td>\n",
       "      <td>4.4</td>\n",
       "      <td>295221</td>\n",
       "      <td>NaN</td>\n",
       "      <td>10000000</td>\n",
       "      <td>Free</td>\n",
       "      <td>0.0</td>\n",
       "      <td>Everyone</td>\n",
       "      <td>Art &amp; Design</td>\n",
       "      <td>2018-07-30</td>\n",
       "      <td>NaN</td>\n",
       "      <td>NaN</td>\n",
       "    </tr>\n",
       "    <tr>\n",
       "      <th>139</th>\n",
       "      <td>Wattpad 📖 Free Books</td>\n",
       "      <td>BOOKS_AND_REFERENCE</td>\n",
       "      <td>4.6</td>\n",
       "      <td>2914724</td>\n",
       "      <td>NaN</td>\n",
       "      <td>100000000</td>\n",
       "      <td>Free</td>\n",
       "      <td>0.0</td>\n",
       "      <td>Teen</td>\n",
       "      <td>Books &amp; Reference</td>\n",
       "      <td>2018-08-01</td>\n",
       "      <td>NaN</td>\n",
       "      <td>NaN</td>\n",
       "    </tr>\n",
       "    <tr>\n",
       "      <th>...</th>\n",
       "      <td>...</td>\n",
       "      <td>...</td>\n",
       "      <td>...</td>\n",
       "      <td>...</td>\n",
       "      <td>...</td>\n",
       "      <td>...</td>\n",
       "      <td>...</td>\n",
       "      <td>...</td>\n",
       "      <td>...</td>\n",
       "      <td>...</td>\n",
       "      <td>...</td>\n",
       "      <td>...</td>\n",
       "      <td>...</td>\n",
       "    </tr>\n",
       "    <tr>\n",
       "      <th>10647</th>\n",
       "      <td>Motorola FM Radio</td>\n",
       "      <td>VIDEO_PLAYERS</td>\n",
       "      <td>3.9</td>\n",
       "      <td>54815</td>\n",
       "      <td>NaN</td>\n",
       "      <td>100000000</td>\n",
       "      <td>Free</td>\n",
       "      <td>0.0</td>\n",
       "      <td>Everyone</td>\n",
       "      <td>Video Players &amp; Editors</td>\n",
       "      <td>2018-05-02</td>\n",
       "      <td>NaN</td>\n",
       "      <td>NaN</td>\n",
       "    </tr>\n",
       "    <tr>\n",
       "      <th>10715</th>\n",
       "      <td>FarmersOnly Dating</td>\n",
       "      <td>DATING</td>\n",
       "      <td>3.0</td>\n",
       "      <td>1145</td>\n",
       "      <td>1433.6</td>\n",
       "      <td>100000</td>\n",
       "      <td>Free</td>\n",
       "      <td>0.0</td>\n",
       "      <td>Mature 17+</td>\n",
       "      <td>Dating</td>\n",
       "      <td>2016-02-25</td>\n",
       "      <td>2.2</td>\n",
       "      <td>4.0</td>\n",
       "    </tr>\n",
       "    <tr>\n",
       "      <th>10720</th>\n",
       "      <td>Firefox Focus: The privacy browser</td>\n",
       "      <td>COMMUNICATION</td>\n",
       "      <td>4.4</td>\n",
       "      <td>36981</td>\n",
       "      <td>4096.0</td>\n",
       "      <td>1000000</td>\n",
       "      <td>Free</td>\n",
       "      <td>0.0</td>\n",
       "      <td>Everyone</td>\n",
       "      <td>Communication</td>\n",
       "      <td>2018-07-06</td>\n",
       "      <td>5.2</td>\n",
       "      <td>5.0</td>\n",
       "    </tr>\n",
       "    <tr>\n",
       "      <th>10730</th>\n",
       "      <td>FP Notebook</td>\n",
       "      <td>MEDICAL</td>\n",
       "      <td>4.5</td>\n",
       "      <td>410</td>\n",
       "      <td>61440.0</td>\n",
       "      <td>50000</td>\n",
       "      <td>Free</td>\n",
       "      <td>0.0</td>\n",
       "      <td>Everyone</td>\n",
       "      <td>Medical</td>\n",
       "      <td>2018-03-24</td>\n",
       "      <td>2.1</td>\n",
       "      <td>4.4</td>\n",
       "    </tr>\n",
       "    <tr>\n",
       "      <th>10753</th>\n",
       "      <td>Slickdeals: Coupons &amp; Shopping</td>\n",
       "      <td>SHOPPING</td>\n",
       "      <td>4.5</td>\n",
       "      <td>33599</td>\n",
       "      <td>12288.0</td>\n",
       "      <td>1000000</td>\n",
       "      <td>Free</td>\n",
       "      <td>0.0</td>\n",
       "      <td>Everyone</td>\n",
       "      <td>Shopping</td>\n",
       "      <td>2018-07-30</td>\n",
       "      <td>3.9</td>\n",
       "      <td>4.4</td>\n",
       "    </tr>\n",
       "  </tbody>\n",
       "</table>\n",
       "<p>1221 rows × 13 columns</p>\n",
       "</div>"
      ],
      "text/plain": [
       "                                                  App             Category  \\\n",
       "1                                 Coloring book moana       ART_AND_DESIGN   \n",
       "23                             Mcqueen Coloring pages       ART_AND_DESIGN   \n",
       "36     UNICORN - Color By Number & Pixel Art Coloring       ART_AND_DESIGN   \n",
       "42                         Textgram - write on photos       ART_AND_DESIGN   \n",
       "139                              Wattpad 📖 Free Books  BOOKS_AND_REFERENCE   \n",
       "...                                               ...                  ...   \n",
       "10647                               Motorola FM Radio        VIDEO_PLAYERS   \n",
       "10715                              FarmersOnly Dating               DATING   \n",
       "10720              Firefox Focus: The privacy browser        COMMUNICATION   \n",
       "10730                                     FP Notebook              MEDICAL   \n",
       "10753                  Slickdeals: Coupons & Shopping             SHOPPING   \n",
       "\n",
       "       Rating  Reviews     Size   Installs  Type  Price Content_Rating  \\\n",
       "1         3.9      967  14336.0     500000  Free    0.0       Everyone   \n",
       "23        NaN       61   7168.0     100000  Free    0.0       Everyone   \n",
       "36        4.7     8145  24576.0     500000  Free    0.0       Everyone   \n",
       "42        4.4   295221      NaN   10000000  Free    0.0       Everyone   \n",
       "139       4.6  2914724      NaN  100000000  Free    0.0           Teen   \n",
       "...       ...      ...      ...        ...   ...    ...            ...   \n",
       "10647     3.9    54815      NaN  100000000  Free    0.0       Everyone   \n",
       "10715     3.0     1145   1433.6     100000  Free    0.0     Mature 17+   \n",
       "10720     4.4    36981   4096.0    1000000  Free    0.0       Everyone   \n",
       "10730     4.5      410  61440.0      50000  Free    0.0       Everyone   \n",
       "10753     4.5    33599  12288.0    1000000  Free    0.0       Everyone   \n",
       "\n",
       "                                Genres Last_Updated  Current_Ver  Android_Ver  \n",
       "1            Art & Design;Pretend Play   2018-01-15          2.0          4.0  \n",
       "23     Art & Design;Action & Adventure   2018-03-07          1.0          4.1  \n",
       "36             Art & Design;Creativity   2018-08-02          1.0          4.4  \n",
       "42                        Art & Design   2018-07-30          NaN          NaN  \n",
       "139                  Books & Reference   2018-08-01          NaN          NaN  \n",
       "...                                ...          ...          ...          ...  \n",
       "10647          Video Players & Editors   2018-05-02          NaN          NaN  \n",
       "10715                           Dating   2016-02-25          2.2          4.0  \n",
       "10720                    Communication   2018-07-06          5.2          5.0  \n",
       "10730                          Medical   2018-03-24          2.1          4.4  \n",
       "10753                         Shopping   2018-07-30          3.9          4.4  \n",
       "\n",
       "[1221 rows x 13 columns]"
      ]
     },
     "execution_count": 51,
     "metadata": {},
     "output_type": "execute_result"
    }
   ],
   "source": [
    "df[df[\"App\"].duplicated(keep = False)]"
   ]
  },
  {
   "cell_type": "code",
   "execution_count": 52,
   "id": "999c047b-c960-4bc8-a580-bee7f77779f7",
   "metadata": {},
   "outputs": [
    {
     "data": {
      "text/html": [
       "<div>\n",
       "<style scoped>\n",
       "    .dataframe tbody tr th:only-of-type {\n",
       "        vertical-align: middle;\n",
       "    }\n",
       "\n",
       "    .dataframe tbody tr th {\n",
       "        vertical-align: top;\n",
       "    }\n",
       "\n",
       "    .dataframe thead th {\n",
       "        text-align: right;\n",
       "    }\n",
       "</style>\n",
       "<table border=\"1\" class=\"dataframe\">\n",
       "  <thead>\n",
       "    <tr style=\"text-align: right;\">\n",
       "      <th></th>\n",
       "      <th>App</th>\n",
       "      <th>Category</th>\n",
       "      <th>Rating</th>\n",
       "      <th>Reviews</th>\n",
       "      <th>Size</th>\n",
       "      <th>Installs</th>\n",
       "      <th>Type</th>\n",
       "      <th>Price</th>\n",
       "      <th>Content_Rating</th>\n",
       "      <th>Genres</th>\n",
       "      <th>Last_Updated</th>\n",
       "      <th>Current_Ver</th>\n",
       "      <th>Android_Ver</th>\n",
       "    </tr>\n",
       "  </thead>\n",
       "  <tbody>\n",
       "    <tr>\n",
       "      <th>1</th>\n",
       "      <td>Coloring book moana</td>\n",
       "      <td>ART_AND_DESIGN</td>\n",
       "      <td>3.9</td>\n",
       "      <td>967</td>\n",
       "      <td>14336.0</td>\n",
       "      <td>500000</td>\n",
       "      <td>Free</td>\n",
       "      <td>0.0</td>\n",
       "      <td>Everyone</td>\n",
       "      <td>Art &amp; Design;Pretend Play</td>\n",
       "      <td>2018-01-15</td>\n",
       "      <td>2.0</td>\n",
       "      <td>4.0</td>\n",
       "    </tr>\n",
       "    <tr>\n",
       "      <th>2033</th>\n",
       "      <td>Coloring book moana</td>\n",
       "      <td>FAMILY</td>\n",
       "      <td>3.9</td>\n",
       "      <td>974</td>\n",
       "      <td>14336.0</td>\n",
       "      <td>500000</td>\n",
       "      <td>Free</td>\n",
       "      <td>0.0</td>\n",
       "      <td>Everyone</td>\n",
       "      <td>Art &amp; Design;Pretend Play</td>\n",
       "      <td>2018-01-15</td>\n",
       "      <td>2.0</td>\n",
       "      <td>4.0</td>\n",
       "    </tr>\n",
       "  </tbody>\n",
       "</table>\n",
       "</div>"
      ],
      "text/plain": [
       "                      App        Category  Rating  Reviews     Size  Installs  \\\n",
       "1     Coloring book moana  ART_AND_DESIGN     3.9      967  14336.0    500000   \n",
       "2033  Coloring book moana          FAMILY     3.9      974  14336.0    500000   \n",
       "\n",
       "      Type  Price Content_Rating                     Genres Last_Updated  \\\n",
       "1     Free    0.0       Everyone  Art & Design;Pretend Play   2018-01-15   \n",
       "2033  Free    0.0       Everyone  Art & Design;Pretend Play   2018-01-15   \n",
       "\n",
       "      Current_Ver  Android_Ver  \n",
       "1             2.0          4.0  \n",
       "2033          2.0          4.0  "
      ]
     },
     "execution_count": 52,
     "metadata": {},
     "output_type": "execute_result"
    }
   ],
   "source": [
    "df[df[\"App\"] == \"Coloring book moana\"]"
   ]
  },
  {
   "cell_type": "code",
   "execution_count": 53,
   "id": "64717df4-18c1-4a5e-8a05-155f9badd627",
   "metadata": {},
   "outputs": [
    {
     "data": {
      "text/html": [
       "<div>\n",
       "<style scoped>\n",
       "    .dataframe tbody tr th:only-of-type {\n",
       "        vertical-align: middle;\n",
       "    }\n",
       "\n",
       "    .dataframe tbody tr th {\n",
       "        vertical-align: top;\n",
       "    }\n",
       "\n",
       "    .dataframe thead th {\n",
       "        text-align: right;\n",
       "    }\n",
       "</style>\n",
       "<table border=\"1\" class=\"dataframe\">\n",
       "  <thead>\n",
       "    <tr style=\"text-align: right;\">\n",
       "      <th></th>\n",
       "      <th>App</th>\n",
       "      <th>Category</th>\n",
       "      <th>Rating</th>\n",
       "      <th>Reviews</th>\n",
       "      <th>Size</th>\n",
       "      <th>Installs</th>\n",
       "      <th>Type</th>\n",
       "      <th>Price</th>\n",
       "      <th>Content_Rating</th>\n",
       "      <th>Genres</th>\n",
       "      <th>Last_Updated</th>\n",
       "      <th>Current_Ver</th>\n",
       "      <th>Android_Ver</th>\n",
       "    </tr>\n",
       "  </thead>\n",
       "  <tbody>\n",
       "    <tr>\n",
       "      <th>2765</th>\n",
       "      <td>Slickdeals: Coupons &amp; Shopping</td>\n",
       "      <td>SHOPPING</td>\n",
       "      <td>4.5</td>\n",
       "      <td>33583</td>\n",
       "      <td>12288.0</td>\n",
       "      <td>1000000</td>\n",
       "      <td>Free</td>\n",
       "      <td>0.0</td>\n",
       "      <td>Everyone</td>\n",
       "      <td>Shopping</td>\n",
       "      <td>2018-07-30</td>\n",
       "      <td>3.9</td>\n",
       "      <td>4.4</td>\n",
       "    </tr>\n",
       "    <tr>\n",
       "      <th>10753</th>\n",
       "      <td>Slickdeals: Coupons &amp; Shopping</td>\n",
       "      <td>SHOPPING</td>\n",
       "      <td>4.5</td>\n",
       "      <td>33599</td>\n",
       "      <td>12288.0</td>\n",
       "      <td>1000000</td>\n",
       "      <td>Free</td>\n",
       "      <td>0.0</td>\n",
       "      <td>Everyone</td>\n",
       "      <td>Shopping</td>\n",
       "      <td>2018-07-30</td>\n",
       "      <td>3.9</td>\n",
       "      <td>4.4</td>\n",
       "    </tr>\n",
       "  </tbody>\n",
       "</table>\n",
       "</div>"
      ],
      "text/plain": [
       "                                  App  Category  Rating  Reviews     Size  \\\n",
       "2765   Slickdeals: Coupons & Shopping  SHOPPING     4.5    33583  12288.0   \n",
       "10753  Slickdeals: Coupons & Shopping  SHOPPING     4.5    33599  12288.0   \n",
       "\n",
       "       Installs  Type  Price Content_Rating    Genres Last_Updated  \\\n",
       "2765    1000000  Free    0.0       Everyone  Shopping   2018-07-30   \n",
       "10753   1000000  Free    0.0       Everyone  Shopping   2018-07-30   \n",
       "\n",
       "       Current_Ver  Android_Ver  \n",
       "2765           3.9          4.4  \n",
       "10753          3.9          4.4  "
      ]
     },
     "execution_count": 53,
     "metadata": {},
     "output_type": "execute_result"
    }
   ],
   "source": [
    "df[df[\"App\"] == \"Slickdeals: Coupons & Shopping\"]"
   ]
  },
  {
   "cell_type": "markdown",
   "id": "a1c17e85-e9a2-41cb-964e-d0cc2c0a9265",
   "metadata": {},
   "source": [
    "## It seems that some apps have many common features including the name, but they may differ in other features, so we will keep those has either most recent dates or higher number pf reviews or installs where these are the indicators that the current row is the newest"
   ]
  },
  {
   "cell_type": "code",
   "execution_count": 54,
   "id": "067cb7ed-f255-4f21-85b6-4bafd51a52b4",
   "metadata": {},
   "outputs": [
    {
     "data": {
      "text/html": [
       "<div>\n",
       "<style scoped>\n",
       "    .dataframe tbody tr th:only-of-type {\n",
       "        vertical-align: middle;\n",
       "    }\n",
       "\n",
       "    .dataframe tbody tr th {\n",
       "        vertical-align: top;\n",
       "    }\n",
       "\n",
       "    .dataframe thead th {\n",
       "        text-align: right;\n",
       "    }\n",
       "</style>\n",
       "<table border=\"1\" class=\"dataframe\">\n",
       "  <thead>\n",
       "    <tr style=\"text-align: right;\">\n",
       "      <th></th>\n",
       "      <th>App</th>\n",
       "      <th>Category</th>\n",
       "      <th>Rating</th>\n",
       "      <th>Reviews</th>\n",
       "      <th>Size</th>\n",
       "      <th>Installs</th>\n",
       "      <th>Type</th>\n",
       "      <th>Price</th>\n",
       "      <th>Content_Rating</th>\n",
       "      <th>Genres</th>\n",
       "      <th>Last_Updated</th>\n",
       "      <th>Current_Ver</th>\n",
       "      <th>Android_Ver</th>\n",
       "    </tr>\n",
       "  </thead>\n",
       "  <tbody>\n",
       "    <tr>\n",
       "      <th>5415</th>\n",
       "      <td>365Scores - Live Scores</td>\n",
       "      <td>SPORTS</td>\n",
       "      <td>4.6</td>\n",
       "      <td>666246</td>\n",
       "      <td>25600.0</td>\n",
       "      <td>10000000</td>\n",
       "      <td>Free</td>\n",
       "      <td>0.0</td>\n",
       "      <td>Everyone</td>\n",
       "      <td>Sports</td>\n",
       "      <td>2018-07-29</td>\n",
       "      <td>5.5</td>\n",
       "      <td>4.1</td>\n",
       "    </tr>\n",
       "    <tr>\n",
       "      <th>1755</th>\n",
       "      <td>8 Ball Pool</td>\n",
       "      <td>GAME</td>\n",
       "      <td>4.5</td>\n",
       "      <td>14200344</td>\n",
       "      <td>53248.0</td>\n",
       "      <td>100000000</td>\n",
       "      <td>Free</td>\n",
       "      <td>0.0</td>\n",
       "      <td>Everyone</td>\n",
       "      <td>Sports</td>\n",
       "      <td>2018-07-31</td>\n",
       "      <td>4.0</td>\n",
       "      <td>4.0</td>\n",
       "    </tr>\n",
       "    <tr>\n",
       "      <th>1703</th>\n",
       "      <td>8 Ball Pool</td>\n",
       "      <td>GAME</td>\n",
       "      <td>4.5</td>\n",
       "      <td>14198602</td>\n",
       "      <td>53248.0</td>\n",
       "      <td>100000000</td>\n",
       "      <td>Free</td>\n",
       "      <td>0.0</td>\n",
       "      <td>Everyone</td>\n",
       "      <td>Sports</td>\n",
       "      <td>2018-07-31</td>\n",
       "      <td>4.0</td>\n",
       "      <td>4.0</td>\n",
       "    </tr>\n",
       "    <tr>\n",
       "      <th>1844</th>\n",
       "      <td>8 Ball Pool</td>\n",
       "      <td>GAME</td>\n",
       "      <td>4.5</td>\n",
       "      <td>14200550</td>\n",
       "      <td>53248.0</td>\n",
       "      <td>100000000</td>\n",
       "      <td>Free</td>\n",
       "      <td>0.0</td>\n",
       "      <td>Everyone</td>\n",
       "      <td>Sports</td>\n",
       "      <td>2018-07-31</td>\n",
       "      <td>4.0</td>\n",
       "      <td>4.0</td>\n",
       "    </tr>\n",
       "    <tr>\n",
       "      <th>3953</th>\n",
       "      <td>8 Ball Pool</td>\n",
       "      <td>SPORTS</td>\n",
       "      <td>4.5</td>\n",
       "      <td>14184910</td>\n",
       "      <td>53248.0</td>\n",
       "      <td>100000000</td>\n",
       "      <td>Free</td>\n",
       "      <td>0.0</td>\n",
       "      <td>Everyone</td>\n",
       "      <td>Sports</td>\n",
       "      <td>2018-07-31</td>\n",
       "      <td>4.0</td>\n",
       "      <td>4.0</td>\n",
       "    </tr>\n",
       "    <tr>\n",
       "      <th>...</th>\n",
       "      <td>...</td>\n",
       "      <td>...</td>\n",
       "      <td>...</td>\n",
       "      <td>...</td>\n",
       "      <td>...</td>\n",
       "      <td>...</td>\n",
       "      <td>...</td>\n",
       "      <td>...</td>\n",
       "      <td>...</td>\n",
       "      <td>...</td>\n",
       "      <td>...</td>\n",
       "      <td>...</td>\n",
       "      <td>...</td>\n",
       "    </tr>\n",
       "    <tr>\n",
       "      <th>1735</th>\n",
       "      <td>slither.io</td>\n",
       "      <td>GAME</td>\n",
       "      <td>4.4</td>\n",
       "      <td>5234825</td>\n",
       "      <td>NaN</td>\n",
       "      <td>100000000</td>\n",
       "      <td>Free</td>\n",
       "      <td>0.0</td>\n",
       "      <td>Everyone</td>\n",
       "      <td>Action</td>\n",
       "      <td>2017-11-14</td>\n",
       "      <td>NaN</td>\n",
       "      <td>2.3</td>\n",
       "    </tr>\n",
       "    <tr>\n",
       "      <th>565</th>\n",
       "      <td>stranger chat - anonymous chat</td>\n",
       "      <td>DATING</td>\n",
       "      <td>3.5</td>\n",
       "      <td>13204</td>\n",
       "      <td>6246.4</td>\n",
       "      <td>1000000</td>\n",
       "      <td>Free</td>\n",
       "      <td>0.0</td>\n",
       "      <td>Mature 17+</td>\n",
       "      <td>Dating</td>\n",
       "      <td>2018-07-07</td>\n",
       "      <td>2.4</td>\n",
       "      <td>4.1</td>\n",
       "    </tr>\n",
       "    <tr>\n",
       "      <th>2637</th>\n",
       "      <td>textPlus: Free Text &amp; Calls</td>\n",
       "      <td>SOCIAL</td>\n",
       "      <td>4.1</td>\n",
       "      <td>382121</td>\n",
       "      <td>28672.0</td>\n",
       "      <td>10000000</td>\n",
       "      <td>Free</td>\n",
       "      <td>0.0</td>\n",
       "      <td>Everyone</td>\n",
       "      <td>Social</td>\n",
       "      <td>2018-07-26</td>\n",
       "      <td>7.3</td>\n",
       "      <td>4.1</td>\n",
       "    </tr>\n",
       "    <tr>\n",
       "      <th>3055</th>\n",
       "      <td>theScore: Live Sports Scores, News, Stats &amp; Vi...</td>\n",
       "      <td>SPORTS</td>\n",
       "      <td>4.4</td>\n",
       "      <td>133833</td>\n",
       "      <td>34816.0</td>\n",
       "      <td>10000000</td>\n",
       "      <td>Free</td>\n",
       "      <td>0.0</td>\n",
       "      <td>Everyone 10+</td>\n",
       "      <td>Sports</td>\n",
       "      <td>2018-07-25</td>\n",
       "      <td>6.1</td>\n",
       "      <td>4.4</td>\n",
       "    </tr>\n",
       "    <tr>\n",
       "      <th>8291</th>\n",
       "      <td>wetter.com - Weather and Radar</td>\n",
       "      <td>WEATHER</td>\n",
       "      <td>4.2</td>\n",
       "      <td>189310</td>\n",
       "      <td>38912.0</td>\n",
       "      <td>10000000</td>\n",
       "      <td>Free</td>\n",
       "      <td>0.0</td>\n",
       "      <td>Everyone</td>\n",
       "      <td>Weather</td>\n",
       "      <td>2018-08-06</td>\n",
       "      <td>NaN</td>\n",
       "      <td>NaN</td>\n",
       "    </tr>\n",
       "  </tbody>\n",
       "</table>\n",
       "<p>698 rows × 13 columns</p>\n",
       "</div>"
      ],
      "text/plain": [
       "                                                    App Category  Rating  \\\n",
       "5415                            365Scores - Live Scores   SPORTS     4.6   \n",
       "1755                                        8 Ball Pool     GAME     4.5   \n",
       "1703                                        8 Ball Pool     GAME     4.5   \n",
       "1844                                        8 Ball Pool     GAME     4.5   \n",
       "3953                                        8 Ball Pool   SPORTS     4.5   \n",
       "...                                                 ...      ...     ...   \n",
       "1735                                         slither.io     GAME     4.4   \n",
       "565                      stranger chat - anonymous chat   DATING     3.5   \n",
       "2637                        textPlus: Free Text & Calls   SOCIAL     4.1   \n",
       "3055  theScore: Live Sports Scores, News, Stats & Vi...   SPORTS     4.4   \n",
       "8291                     wetter.com - Weather and Radar  WEATHER     4.2   \n",
       "\n",
       "       Reviews     Size   Installs  Type  Price Content_Rating   Genres  \\\n",
       "5415    666246  25600.0   10000000  Free    0.0       Everyone   Sports   \n",
       "1755  14200344  53248.0  100000000  Free    0.0       Everyone   Sports   \n",
       "1703  14198602  53248.0  100000000  Free    0.0       Everyone   Sports   \n",
       "1844  14200550  53248.0  100000000  Free    0.0       Everyone   Sports   \n",
       "3953  14184910  53248.0  100000000  Free    0.0       Everyone   Sports   \n",
       "...        ...      ...        ...   ...    ...            ...      ...   \n",
       "1735   5234825      NaN  100000000  Free    0.0       Everyone   Action   \n",
       "565      13204   6246.4    1000000  Free    0.0     Mature 17+   Dating   \n",
       "2637    382121  28672.0   10000000  Free    0.0       Everyone   Social   \n",
       "3055    133833  34816.0   10000000  Free    0.0   Everyone 10+   Sports   \n",
       "8291    189310  38912.0   10000000  Free    0.0       Everyone  Weather   \n",
       "\n",
       "     Last_Updated  Current_Ver  Android_Ver  \n",
       "5415   2018-07-29          5.5          4.1  \n",
       "1755   2018-07-31          4.0          4.0  \n",
       "1703   2018-07-31          4.0          4.0  \n",
       "1844   2018-07-31          4.0          4.0  \n",
       "3953   2018-07-31          4.0          4.0  \n",
       "...           ...          ...          ...  \n",
       "1735   2017-11-14          NaN          2.3  \n",
       "565    2018-07-07          2.4          4.1  \n",
       "2637   2018-07-26          7.3          4.1  \n",
       "3055   2018-07-25          6.1          4.4  \n",
       "8291   2018-08-06          NaN          NaN  \n",
       "\n",
       "[698 rows x 13 columns]"
      ]
     },
     "execution_count": 54,
     "metadata": {},
     "output_type": "execute_result"
    }
   ],
   "source": [
    "df[df[\"App\"].duplicated()].sort_values(by=\"App\")"
   ]
  },
  {
   "cell_type": "markdown",
   "id": "2ffca489-90c2-47c6-9f29-3d38638b6666",
   "metadata": {},
   "source": [
    "## Q1: What is the most expensive app on the Play Store?"
   ]
  },
  {
   "cell_type": "code",
   "execution_count": 55,
   "id": "4b57c28a-25f4-4de9-b177-3cd0ae99bb30",
   "metadata": {},
   "outputs": [
    {
     "name": "stdout",
     "output_type": "stream",
     "text": [
      "Most Expensive App: I'm Rich - Trump Edition\n",
      "Price: $400.00\n",
      "Category: LIFESTYLE\n",
      "Rating: 3.6\n"
     ]
    }
   ],
   "source": [
    "most_expensive = df.loc[df['Price'].idxmax()]\n",
    "\n",
    "print(f\"Most Expensive App: {most_expensive['App']}\")\n",
    "print(f\"Price: ${most_expensive['Price']:.2f}\")\n",
    "print(f\"Category: {most_expensive['Category']}\")\n",
    "print(f\"Rating: {most_expensive['Rating']}\")"
   ]
  },
  {
   "cell_type": "markdown",
   "id": "8b58d2e9-27fb-434e-a7ee-3b8ca7798cd4",
   "metadata": {},
   "source": [
    "## Q2:Which genre has the highest number of apps?"
   ]
  },
  {
   "cell_type": "code",
   "execution_count": 56,
   "id": "818c887c-abf2-4a8e-b073-f4f7eaa28376",
   "metadata": {},
   "outputs": [
    {
     "data": {
      "image/png": "[encoded data removed]",
      "text/plain": [
       "<Figure size 1200x600 with 1 Axes>"
      ]
     },
     "metadata": {},
     "output_type": "display_data"
    }
   ],
   "source": [
    "genre_counts = df['Genres'].value_counts()\n",
    "top_n = 10\n",
    "top_genres = genre_counts.head(top_n)\n",
    "plt.figure(figsize=(12, 6))\n",
    "top_genres.plot(kind='bar')\n",
    "plt.title(f'Top {top_n} Genres by Number of Apps')\n",
    "plt.xlabel('Genre')\n",
    "plt.ylabel('Number of Apps')\n",
    "plt.xticks(rotation=45, ha='right')\n",
    "plt.tight_layout()\n",
    "plt.show()"
   ]
  },
  {
   "cell_type": "markdown",
   "id": "38343411-e372-4e57-9958-26a628df0d37",
   "metadata": {},
   "source": [
    "## Q3: What is the average size of free vs. paid apps?"
   ]
  },
  {
   "cell_type": "code",
   "execution_count": 57,
   "id": "e1af5128-db02-4640-99d1-118cd2e28f76",
   "metadata": {},
   "outputs": [
    {
     "name": "stderr",
     "output_type": "stream",
     "text": [
      "/var/folders/y6/pt1tqh4d05j8dx0z6klwzy5h0000gn/T/ipykernel_1349/1414872355.py:1: SettingWithCopyWarning: \n",
      "A value is trying to be set on a copy of a slice from a DataFrame.\n",
      "Try using .loc[row_indexer,col_indexer] = value instead\n",
      "\n",
      "See the caveats in the documentation: https://pandas.pydata.org/pandas-docs/stable/user_guide/indexing.html#returning-a-view-versus-a-copy\n",
      "  df['Type'] = df['Price'].apply(lambda x: 'Free' if x == 0 else 'Paid')\n"
     ]
    },
    {
     "data": {
      "image/png": "[encoded data removed]",
      "text/plain": [
       "<Figure size 800x600 with 1 Axes>"
      ]
     },
     "metadata": {},
     "output_type": "display_data"
    },
    {
     "name": "stdout",
     "output_type": "stream",
     "text": [
      "Average size - Free: 21984.08 MB, Paid: 19582.62 MB\n"
     ]
    }
   ],
   "source": [
    "df['Type'] = df['Price'].apply(lambda x: 'Free' if x == 0 else 'Paid')\n",
    "\n",
    "# Calculate average sizes\n",
    "avg_sizes = df.groupby('Type')['Size'].mean()\n",
    "\n",
    "# Create bar plot\n",
    "plt.figure(figsize=(8, 6))\n",
    "bars = plt.bar(avg_sizes.index, avg_sizes.values, color=['skyblue', 'lightcoral'])\n",
    "plt.title('Average App Size: Free vs Paid', fontsize=14, fontweight='bold')\n",
    "plt.xlabel('App Type')\n",
    "plt.ylabel('Average Size (MB)')\n",
    "\n",
    "# Add value labels on bars\n",
    "for bar in bars:\n",
    "    height = bar.get_height()\n",
    "    plt.text(bar.get_x() + bar.get_width()/2., height,\n",
    "             f'{height:.2f} MB',\n",
    "             ha='center', va='bottom')\n",
    "\n",
    "plt.tight_layout()\n",
    "plt.show()\n",
    "\n",
    "print(f\"Average size - Free: {avg_sizes['Free']:.2f} MB, Paid: {avg_sizes['Paid']:.2f} MB\")"
   ]
  },
  {
   "cell_type": "markdown",
   "id": "30f99e21-dd6b-49a5-8abf-036e5be3a3bc",
   "metadata": {},
   "source": [
    "## Q4: What are the top 5 most expensive apps with a perfect rating (5)?"
   ]
  },
  {
   "cell_type": "code",
   "execution_count": 58,
   "id": "ba523c38-130d-4856-ad03-b57e895463bc",
   "metadata": {},
   "outputs": [
    {
     "name": "stdout",
     "output_type": "stream",
     "text": [
      "5490. AP Art History Flashcards\n",
      "Price: $29.99 | Category: FAMILY | Reviews: 1\n",
      "\n",
      "7478. USMLE Step 2 CK Flashcards\n",
      "Price: $19.99 | Category: FAMILY | Reviews: 1\n",
      "\n",
      "5247. Hey AJ! It's Bedtime!\n",
      "Price: $4.99 | Category: FAMILY | Reviews: 1\n",
      "\n",
      "5483. meStudying: AP English Lit\n",
      "Price: $4.99 | Category: FAMILY | Reviews: 1\n",
      "\n",
      "7205. TI-84 CE Graphing Calculator Manual TI 84\n",
      "Price: $4.99 | Category: FAMILY | Reviews: 1\n",
      "\n"
     ]
    }
   ],
   "source": [
    "perfect_rated = df[(df['Rating'] == 5) & (df['Price'] > 0)]\n",
    "top_5_expensive_perfect = perfect_rated.nlargest(5, 'Price')[['App', 'Price', 'Category', 'Reviews', 'Size']]\n",
    "\n",
    "for i, row in top_5_expensive_perfect.iterrows():\n",
    "    print(f\"{i+1}. {row['App']}\")\n",
    "    print(f\"Price: ${row['Price']:.2f} | Category: {row['Category']} | Reviews: {row['Reviews']:,}\")\n",
    "    print()"
   ]
  },
  {
   "cell_type": "markdown",
   "id": "3274cf88-b744-4653-bfdd-eaa52f5837dc",
   "metadata": {},
   "source": [
    "## Q5: How many apps have received more than 50K reviews?"
   ]
  },
  {
   "cell_type": "code",
   "execution_count": 59,
   "id": "765db903-a2b9-4732-8761-445f34b79ad1",
   "metadata": {},
   "outputs": [
    {
     "name": "stdout",
     "output_type": "stream",
     "text": [
      "Number of apps with >50K reviews: 2,525\n",
      "Total apps in dataset: 10,358\n",
      "Percentage: 24.38%\n"
     ]
    }
   ],
   "source": [
    "apps_over_50k = df[df['Reviews'] > 50000]\n",
    "count_over_50k = len(apps_over_50k)\n",
    "total_apps = len(df)\n",
    "percentage = (count_over_50k / total_apps) * 100\n",
    "\n",
    "print(f\"Number of apps with >50K reviews: {count_over_50k:,}\")\n",
    "print(f\"Total apps in dataset: {total_apps:,}\")\n",
    "print(f\"Percentage: {percentage:.2f}%\")"
   ]
  },
  {
   "cell_type": "markdown",
   "id": "0f59aab8-7491-4416-ad71-b21811e7f7b8",
   "metadata": {},
   "source": [
    "## Q6: What is the average price of apps, grouped by genre and number of installs?"
   ]
  },
  {
   "cell_type": "code",
   "execution_count": 60,
   "id": "c1416fc3-ab9c-43ca-884f-c5826664a520",
   "metadata": {},
   "outputs": [
    {
     "name": "stdout",
     "output_type": "stream",
     "text": [
      "Total unique genre-install combinations: 921\n",
      "Sample of the data:\n",
      "   Genres  Installs  Price\n",
      "0  Action        10   0.00\n",
      "1  Action        50   0.66\n",
      "2  Action       100   1.10\n",
      "3  Action       500   0.00\n",
      "4  Action      1000   0.37\n",
      "5  Action      5000   0.00\n",
      "6  Action     10000   1.87\n",
      "7  Action     50000   0.40\n",
      "8  Action    100000   0.39\n",
      "9  Action    500000   0.09\n"
     ]
    }
   ],
   "source": [
    "grouped_prices = df.groupby(['Genres', 'Installs'])['Price'].mean().reset_index()\n",
    "grouped_prices = grouped_prices.round(2)\n",
    "\n",
    "print(f\"Total unique genre-install combinations: {len(grouped_prices)}\")\n",
    "print(f\"Sample of the data:\")\n",
    "print(grouped_prices.head(10))"
   ]
  },
  {
   "cell_type": "markdown",
   "id": "f84849cb-8b6b-4dee-be37-82d8a7085f8e",
   "metadata": {},
   "source": [
    "## Q7: How many apps have a rating higher than 4.7, and what is their average price?"
   ]
  },
  {
   "cell_type": "code",
   "execution_count": 63,
   "id": "a57374ed-6085-43cc-a900-2ea1c65e9d5a",
   "metadata": {},
   "outputs": [],
   "source": [
    "# Filter apps with rating > 4.7\n",
    "high_rated_apps = df[df['Rating'] > 4.7]\n",
    "count_high_rated = len(high_rated_apps)\n",
    "total_apps = len(df)\n",
    "percentage = (count_high_rated / total_apps) * 100\n",
    "\n",
    "avg_price_all = high_rated_apps['Price'].mean()\n",
    "avg_price_paid = high_rated_apps[high_rated_apps['Price'] > 0]['Price'].mean()\n",
    "paid_count = len(high_rated_apps[high_rated_apps['Price'] > 0])\n",
    "free_count = len(high_rated_apps[high_rated_apps['Price'] == 0])"
   ]
  },
  {
   "cell_type": "code",
   "execution_count": 69,
   "id": "5f0c5a12-baab-4ec8-bb23-24cb27dfa79b",
   "metadata": {},
   "outputs": [
    {
     "name": "stdout",
     "output_type": "stream",
     "text": [
      "Number of apps with rating > 4.7: 586\n",
      "Total apps in dataset: 10,358\n",
      "Percentage: 5.66%\n",
      "Average price (all apps): $0.46\n",
      "Average price (paid apps only): $3.81\n"
     ]
    }
   ],
   "source": [
    "print(f\"Number of apps with rating > 4.7: {count_high_rated:,}\")\n",
    "print(f\"Total apps in dataset: {total_apps:,}\")\n",
    "print(f\"Percentage: {percentage:.2f}%\")\n",
    "\n",
    "print(f\"Average price (all apps): ${avg_price_all:.2f}\")\n",
    "print(f\"Average price (paid apps only): ${avg_price_paid:.2f}\")"
   ]
  },
  {
   "cell_type": "markdown",
   "id": "e0b356cf-a4a2-4104-8ff0-97265eacf243",
   "metadata": {},
   "source": [
    "## Q8: What is Google's estimated revenue from apps with 5,000,000+ installs?\n",
    "(Assuming Google takes a 30% cut from app sales)"
   ]
  },
  {
   "cell_type": "code",
   "execution_count": 71,
   "id": "faff9d0d-f2c3-4dc6-a6bf-a8380433c736",
   "metadata": {},
   "outputs": [
    {
     "name": "stdout",
     "output_type": "stream",
     "text": [
      "GOOGLE'S ESTIMATED REVENUE FROM 5M+ INSTALL APPS:\n",
      "Apps with 5M+ installs: 2,566\n",
      "Paid apps with 5M+ installs: 3\n",
      "Free apps with 5M+ installs: 2,563\n",
      "Percentage of paid apps: 0.1%\n",
      "\n",
      "REVENUE ESTIMATES:\n",
      "Total app sales revenue: $14.97\n",
      "Google's 30% commission: $4.49\n"
     ]
    }
   ],
   "source": [
    "high_install_apps = df[df['Installs']>= 5000000]\n",
    "# Calculate total revenue and Google's cut\n",
    "total_revenue = high_install_apps['Price'].sum()\n",
    "google_revenue = total_revenue * 0.30\n",
    "\n",
    "\n",
    "count_high_install = len(high_install_apps)\n",
    "count_paid_high_install = len(high_install_apps[high_install_apps['Price'] > 0])\n",
    "count_free_high_install = len(high_install_apps[high_install_apps['Price'] == 0])\n",
    "\n",
    "print(\"GOOGLE'S ESTIMATED REVENUE FROM 5M+ INSTALL APPS:\")\n",
    "print(f\"Apps with 5M+ installs: {count_high_install:,}\")\n",
    "print(f\"Paid apps with 5M+ installs: {count_paid_high_install:,}\")\n",
    "print(f\"Free apps with 5M+ installs: {count_free_high_install:,}\")\n",
    "print(f\"Percentage of paid apps: {count_paid_high_install/count_high_install*100:.1f}%\")\n",
    "print(f\"\\nREVENUE ESTIMATES:\")\n",
    "print(f\"Total app sales revenue: ${total_revenue:,.2f}\")\n",
    "print(f\"Google's 30% commission: ${google_revenue:,.2f}\")"
   ]
  },
  {
   "cell_type": "markdown",
   "id": "36d1cc60-2e5a-4c54-9c5c-57c8b19655b1",
   "metadata": {},
   "source": [
    "## Q9: What are the maximum and minimum sizes of free vs. paid apps?"
   ]
  },
  {
   "cell_type": "code",
   "execution_count": 72,
   "id": "cfcc7d42-2037-4bf4-8948-12b0cf2ca078",
   "metadata": {},
   "outputs": [
    {
     "name": "stdout",
     "output_type": "stream",
     "text": [
      "APP SIZE STATISTICS: FREE VS PAID\n",
      "\n",
      "Free Apps:\n",
      "  Minimum size: 8.5 MB\n",
      "  Maximum size: 102400.0 MB\n",
      "  Average size: 21984.08 MB\n",
      "  Median size: 13312.0 MB\n",
      "  Size standard deviation: 23103.91 MB\n",
      "\n",
      "Paid Apps:\n",
      "  Minimum size: 14.0 MB\n",
      "  Maximum size: 102400.0 MB\n",
      "  Average size: 19582.62 MB\n",
      "  Median size: 9728.0 MB\n",
      "  Size standard deviation: 22710.6 MB\n"
     ]
    },
    {
     "name": "stderr",
     "output_type": "stream",
     "text": [
      "/var/folders/y6/pt1tqh4d05j8dx0z6klwzy5h0000gn/T/ipykernel_1349/1409348522.py:1: SettingWithCopyWarning: \n",
      "A value is trying to be set on a copy of a slice from a DataFrame.\n",
      "Try using .loc[row_indexer,col_indexer] = value instead\n",
      "\n",
      "See the caveats in the documentation: https://pandas.pydata.org/pandas-docs/stable/user_guide/indexing.html#returning-a-view-versus-a-copy\n",
      "  df['Type'] = df['Price'].apply(lambda x: 'Free' if x == 0 else 'Paid')\n"
     ]
    }
   ],
   "source": [
    "df['Type'] = df['Price'].apply(lambda x: 'Free' if x == 0 else 'Paid')\n",
    "\n",
    "# Calculate size statistics for free vs paid apps\n",
    "size_stats = df.groupby('Type')['Size'].agg(['min', 'max', 'mean', 'median', 'std']).round(2)\n",
    "\n",
    "print(\"APP SIZE STATISTICS: FREE VS PAID\")\n",
    "for app_type in ['Free', 'Paid']:\n",
    "    stats = size_stats.loc[app_type]\n",
    "    print(f\"\\n{app_type} Apps:\")\n",
    "    print(f\"  Minimum size: {stats['min']} MB\")\n",
    "    print(f\"  Maximum size: {stats['max']} MB\")\n",
    "    print(f\"  Average size: {stats['mean']} MB\")\n",
    "    print(f\"  Median size: {stats['median']} MB\")\n",
    "    print(f\"  Size standard deviation: {stats['std']} MB\")"
   ]
  },
  {
   "cell_type": "markdown",
   "id": "37e34204-65f1-430b-b21b-c8a1e6d58433",
   "metadata": {},
   "source": [
    "## Q10: Is there a correlation between an app’s rating, number of reviews, size, and its price?"
   ]
  },
  {
   "cell_type": "code",
   "execution_count": null,
   "id": "c21ad926-4426-4798-886b-1d8df11e961e",
   "metadata": {},
   "outputs": [],
   "source": []
  },
  {
   "cell_type": "markdown",
   "id": "0a2ba57b-13c4-4f7f-aa91-4cc9d9b886ea",
   "metadata": {},
   "source": [
    "## Q11: How many apps exist for each type (free/paid) across different content ratings?"
   ]
  },
  {
   "cell_type": "code",
   "execution_count": 80,
   "id": "95afeb61-d993-4039-bf5e-a0cbf1014960",
   "metadata": {},
   "outputs": [
    {
     "data": {
      "image/png": "[encoded data removed]",
      "text/plain": [
       "<Figure size 1200x800 with 1 Axes>"
      ]
     },
     "metadata": {},
     "output_type": "display_data"
    }
   ],
   "source": [
    "# Create grouped bar plot\n",
    "plt.figure(figsize=(12, 8))\n",
    "x = np.arange(len(content_rating_counts.index))\n",
    "width = 0.35\n",
    "\n",
    "bars1 = plt.bar(x - width/2, content_rating_counts['Free'], width, \n",
    "                label='Free', color='blue', edgecolor='black')\n",
    "bars2 = plt.bar(x + width/2, content_rating_counts['Paid'], width, \n",
    "                label='Paid', color='red', edgecolor='black')\n",
    "\n",
    "plt.title('Free vs Paid Apps by Content Rating', fontsize=16, fontweight='bold')\n",
    "plt.xlabel('Content Rating')\n",
    "plt.ylabel('Number of Apps')\n",
    "plt.xticks(x, content_rating_counts.index, rotation=45, ha='right')\n",
    "plt.legend()\n",
    "plt.grid(axis='y', alpha=0.3)\n",
    "\n",
    "# Add value labels on bars\n",
    "for bars in [bars1, bars2]:\n",
    "    for bar in bars:\n",
    "        height = bar.get_height()\n",
    "        if height > 0:\n",
    "            plt.text(bar.get_x() + bar.get_width()/2., height + max(content_rating_counts.max()) * 0.01,\n",
    "                    f'{int(height):,}', ha='center', va='bottom', fontweight='bold')\n",
    "\n",
    "plt.tight_layout()\n",
    "plt.show()"
   ]
  },
  {
   "cell_type": "markdown",
   "id": "e1d3a0f1-27a7-41e0-bf65-74f82fe772c0",
   "metadata": {},
   "source": [
    "## Q12: How many apps are compatible with Android version 4.x?"
   ]
  },
  {
   "cell_type": "code",
   "execution_count": 82,
   "id": "e86760c2-2bcf-4d18-a936-db976053dcb3",
   "metadata": {},
   "outputs": [
    {
     "name": "stdout",
     "output_type": "stream",
     "text": [
      "Number of apps compatible with Android 4.x: 4,589\n",
      "Total apps in dataset: 10,358\n",
      "Percentage: 44.30%\n"
     ]
    }
   ],
   "source": [
    "# Filter apps compatible with Android 4.x\n",
    "android_4x = df[df['Android_Ver']>4]\n",
    "count_android_4x = len(android_4x)\n",
    "total_apps = len(df)\n",
    "percentage = (count_android_4x / total_apps) * 100\n",
    "\n",
    "\n",
    "print(f\"Number of apps compatible with Android 4.x: {count_android_4x:,}\")\n",
    "print(f\"Total apps in dataset: {total_apps:,}\")\n",
    "print(f\"Percentage: {percentage:.2f}%\")\n"
   ]
  },
  {
   "cell_type": "code",
   "execution_count": null,
   "id": "cc7387ba-d20f-46d8-81c6-a9a560d7d05f",
   "metadata": {},
   "outputs": [],
   "source": []
  }
 ],
 "metadata": {
  "kernelspec": {
   "display_name": "Python 3 (ipykernel)",
   "language": "python",
   "name": "python3"
  },
  "language_info": {
   "codemirror_mode": {
    "name": "ipython",
    "version": 3
   },
   "file_extension": ".py",
   "mimetype": "text/x-python",
   "name": "python",
   "nbconvert_exporter": "python",
   "pygments_lexer": "ipython3",
   "version": "3.13.5"
  }
 },
 "nbformat": 4,
 "nbformat_minor": 5
}
